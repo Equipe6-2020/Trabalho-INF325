{
 "cells": [
  {
   "cell_type": "code",
   "execution_count": null,
   "metadata": {},
   "outputs": [],
   "source": [
    "%env MONGODB_VERSION      4.0.11\n",
    "%env MONGODB_PATH mongodb-4.0.11"
   ]
  },
  {
   "cell_type": "code",
   "execution_count": null,
   "metadata": {},
   "outputs": [],
   "source": [
    "!pip3 install pymongo"
   ]
  },
  {
   "cell_type": "code",
   "execution_count": null,
   "metadata": {},
   "outputs": [],
   "source": [
    "!${MONGODB_PATH}/bin/mongo --help"
   ]
  },
  {
   "cell_type": "code",
   "execution_count": null,
   "metadata": {},
   "outputs": [],
   "source": [
    "!${MONGODB_PATH}/bin/mongo --eval \"printjson(db.serverStatus())\""
   ]
  },
  {
   "cell_type": "code",
   "execution_count": 6,
   "metadata": {},
   "outputs": [
    {
     "name": "stdout",
     "output_type": "stream",
     "text": [
      "2020-09-09T16:09:49.298+0000\tconnected to: localhost\n",
      "2020-09-09T16:09:49.299+0000\tdropping: mkt.customers\n",
      "2020-09-09T16:09:50.645+0000\timported 99441 documents\n"
     ]
    }
   ],
   "source": [
    "!${MONGODB_PATH}/bin/mongoimport --db mkt --collection customers --drop --jsonArray --file dataset/olist_customers_dataset.json"
   ]
  },
  {
   "cell_type": "code",
   "execution_count": 7,
   "metadata": {},
   "outputs": [
    {
     "name": "stdout",
     "output_type": "stream",
     "text": [
      "2020-09-09T16:09:51.467+0000\tconnected to: localhost\n",
      "2020-09-09T16:09:51.468+0000\tdropping: mkt.payments\n",
      "2020-09-09T16:09:52.863+0000\timported 103886 documents\n"
     ]
    }
   ],
   "source": [
    "!${MONGODB_PATH}/bin/mongoimport --db mkt --collection payments --drop --jsonArray --file dataset/olist_order_payments_dataset.json"
   ]
  },
  {
   "cell_type": "code",
   "execution_count": 8,
   "metadata": {},
   "outputs": [
    {
     "name": "stdout",
     "output_type": "stream",
     "text": [
      "2020-09-09T16:09:53.689+0000\tconnected to: localhost\n",
      "2020-09-09T16:09:53.689+0000\tdropping: mkt.orders\n",
      "2020-09-09T16:09:55.501+0000\timported 99441 documents\n"
     ]
    }
   ],
   "source": [
    "!${MONGODB_PATH}/bin/mongoimport --db mkt --collection orders --drop --jsonArray --file dataset/olist_orders_dataset.json"
   ]
  },
  {
   "cell_type": "code",
   "execution_count": 9,
   "metadata": {},
   "outputs": [
    {
     "name": "stdout",
     "output_type": "stream",
     "text": [
      "2020-09-09T16:09:56.138+0000\tconnected to: localhost\n",
      "2020-09-09T16:09:56.138+0000\tdropping: mkt.products\n",
      "2020-09-09T16:09:56.705+0000\timported 32951 documents\n"
     ]
    }
   ],
   "source": [
    "!${MONGODB_PATH}/bin/mongoimport --db mkt --collection products --drop --jsonArray --file dataset/olist_products_dataset.json"
   ]
  },
  {
   "cell_type": "code",
   "execution_count": 10,
   "metadata": {},
   "outputs": [
    {
     "name": "stdout",
     "output_type": "stream",
     "text": [
      "2020-09-09T16:09:58.394+0000\tconnected to: localhost\n",
      "2020-09-09T16:09:58.395+0000\tdropping: mkt.sellers\n",
      "2020-09-09T16:09:58.446+0000\timported 3095 documents\n"
     ]
    }
   ],
   "source": [
    "!${MONGODB_PATH}/bin/mongoimport --db mkt --collection sellers --drop --jsonArray --file dataset/olist_sellers_dataset.json"
   ]
  },
  {
   "cell_type": "code",
   "execution_count": 11,
   "metadata": {},
   "outputs": [
    {
     "name": "stdout",
     "output_type": "stream",
     "text": [
      "2020-09-09T16:09:59.948+0000\tconnected to: localhost\n",
      "2020-09-09T16:09:59.948+0000\tdropping: mkt.productcategory\n",
      "2020-09-09T16:09:59.964+0000\timported 71 documents\n"
     ]
    }
   ],
   "source": [
    "!${MONGODB_PATH}/bin/mongoimport --db mkt --collection productcategory --drop --jsonArray --file dataset/product_category_name_translation.json"
   ]
  },
  {
   "cell_type": "code",
   "execution_count": 12,
   "metadata": {},
   "outputs": [
    {
     "name": "stdout",
     "output_type": "stream",
     "text": [
      "{\n",
      "\t\"_id\" : ObjectId(\"5f58fe561847f82b3fa77b38\"),\n",
      "\t\"seller_id\" : \"3442f8959a84dea7ee197c632cb2df15\",\n",
      "\t\"seller_zip_code_prefix\" : 13023,\n",
      "\t\"seller_city\" : \"campinas\",\n",
      "\t\"seller_state\" : \"SP\"\n",
      "}\n"
     ]
    }
   ],
   "source": [
    "!${MONGODB_PATH}/bin/mongo --quiet --eval 'db.sellers.findOne();' mkt"
   ]
  }
 ],
 "metadata": {
  "kernelspec": {
   "display_name": "Python 3",
   "language": "python",
   "name": "python3"
  },
  "language_info": {
   "codemirror_mode": {
    "name": "ipython",
    "version": 3
   },
   "file_extension": ".py",
   "mimetype": "text/x-python",
   "name": "python",
   "nbconvert_exporter": "python",
   "pygments_lexer": "ipython3",
   "version": "3.6.9"
  }
 },
 "nbformat": 4,
 "nbformat_minor": 4
}
