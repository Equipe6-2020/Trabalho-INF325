{
 "cells": [
  {
   "cell_type": "code",
   "execution_count": null,
   "metadata": {},
   "outputs": [],
   "source": [
    "%env MONGODB_VERSION      4.0.11\n",
    "%env MONGODB_PATH mongodb-4.0.11"
   ]
  },
  {
   "cell_type": "code",
   "execution_count": null,
   "metadata": {},
   "outputs": [],
   "source": [
    "!pip3 install pymongo"
   ]
  },
  {
   "cell_type": "code",
   "execution_count": null,
   "metadata": {},
   "outputs": [],
   "source": [
    "!${MONGODB_PATH}/bin/mongo --help"
   ]
  },
  {
   "cell_type": "code",
   "execution_count": null,
   "metadata": {},
   "outputs": [],
   "source": [
    "!${MONGODB_PATH}/bin/mongo --eval \"printjson(db.serverStatus())\""
   ]
  },
  {
   "cell_type": "code",
   "execution_count": null,
   "metadata": {},
   "outputs": [],
   "source": [
    "!${MONGODB_PATH}/bin/mongoimport --db mkt --collection customers --drop --jsonArray --file dataset/olist_customers_dataset.json"
   ]
  },
  {
   "cell_type": "code",
   "execution_count": null,
   "metadata": {},
   "outputs": [],
   "source": [
    "!${MONGODB_PATH}/bin/mongoimport --db mkt --collection payments --drop --jsonArray --file dataset/olist_order_payments_dataset.json"
   ]
  },
  {
   "cell_type": "code",
   "execution_count": null,
   "metadata": {},
   "outputs": [],
   "source": [
    "!${MONGODB_PATH}/bin/mongoimport --db mkt --collection orders --drop --jsonArray --file dataset/olist_orders_dataset.json"
   ]
  },
  {
   "cell_type": "code",
   "execution_count": null,
   "metadata": {},
   "outputs": [],
   "source": [
    "!${MONGODB_PATH}/bin/mongoimport --db mkt --collection products --drop --jsonArray --file dataset/olist_products_dataset.json"
   ]
  },
  {
   "cell_type": "code",
   "execution_count": null,
   "metadata": {},
   "outputs": [],
   "source": [
    "!${MONGODB_PATH}/bin/mongoimport --db mkt --collection sellers --drop --jsonArray --file dataset/olist_sellers_dataset.json"
   ]
  },
  {
   "cell_type": "code",
   "execution_count": null,
   "metadata": {},
   "outputs": [],
   "source": [
    "!${MONGODB_PATH}/bin/mongoimport --db mkt --collection productcategory --drop --jsonArray --file dataset/product_category_name_translation.json"
   ]
  },
  {
   "cell_type": "code",
   "execution_count": null,
   "metadata": {},
   "outputs": [],
   "source": [
    "!${MONGODB_PATH}/bin/mongo --quiet --eval 'db.sellers.findOne();' mkt"
   ]
  }
 ],
 "metadata": {
  "kernelspec": {
   "display_name": "Python 3",
   "language": "python",
   "name": "python3"
  },
  "language_info": {
   "codemirror_mode": {
    "name": "ipython",
    "version": 3
   },
   "file_extension": ".py",
   "mimetype": "text/x-python",
   "name": "python",
   "nbconvert_exporter": "python",
   "pygments_lexer": "ipython3",
   "version": "3.7.8"
  }
 },
 "nbformat": 4,
 "nbformat_minor": 4
}
