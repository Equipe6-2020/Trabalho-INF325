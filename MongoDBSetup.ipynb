{
 "cells": [
  {
   "cell_type": "code",
   "execution_count": 4,
   "metadata": {},
   "outputs": [
    {
     "name": "stdout",
     "output_type": "stream",
     "text": [
      "env: MONGODB_VERSION=4.0.11\n",
      "env: MONGODB_PATH=mongodb-4.0.11\n"
     ]
    }
   ],
   "source": [
    "%env MONGODB_VERSION      4.0.11\n",
    "%env MONGODB_PATH mongodb-4.0.11"
   ]
  },
  {
   "cell_type": "code",
   "execution_count": 5,
   "metadata": {},
   "outputs": [
    {
     "name": "stdout",
     "output_type": "stream",
     "text": [
      "mongodb-linux-x86_6 100%[===================>]  99,28M  4,91MB/s    em 21s     \n"
     ]
    }
   ],
   "source": [
    "!wget http://downloads.mongodb.org/linux/mongodb-linux-x86_64-ubuntu1804-${MONGODB_VERSION}.tgz -q --show-progress"
   ]
  },
  {
   "cell_type": "code",
   "execution_count": 6,
   "metadata": {},
   "outputs": [],
   "source": [
    "!tar -xvf mongodb-linux-x86_64-ubuntu1804-4.0.11.tgz >/dev/null \n",
    "!rm       mongodb-linux-x86_64-ubuntu1804-4.0.11.tgz\n",
    "!mv mongodb-linux-x86_64-ubuntu1804-4.0.11 ${MONGODB_PATH}"
   ]
  },
  {
   "cell_type": "code",
   "execution_count": null,
   "metadata": {},
   "outputs": [
    {
     "name": "stdout",
     "output_type": "stream",
     "text": [
      "2020-09-08T22:01:59.725-0300 I CONTROL  [main] Automatically disabling TLS 1.0, to force-enable TLS 1.0 specify --sslDisabledProtocols 'none'\n",
      "2020-09-08T22:01:59.728-0300 I CONTROL  [initandlisten] MongoDB starting : pid=9049 port=27017 dbpath=mongodb-4.0.11/data/db 64-bit host=jep\n",
      "2020-09-08T22:01:59.728-0300 I CONTROL  [initandlisten] db version v4.0.11\n",
      "2020-09-08T22:01:59.728-0300 I CONTROL  [initandlisten] git version: 417d1a712e9f040d54beca8e4943edce218e9a8c\n",
      "2020-09-08T22:01:59.728-0300 I CONTROL  [initandlisten] OpenSSL version: OpenSSL 1.1.1d  10 Sep 2019\n",
      "2020-09-08T22:01:59.728-0300 I CONTROL  [initandlisten] allocator: tcmalloc\n",
      "2020-09-08T22:01:59.728-0300 I CONTROL  [initandlisten] modules: none\n",
      "2020-09-08T22:01:59.728-0300 I CONTROL  [initandlisten] build environment:\n",
      "2020-09-08T22:01:59.728-0300 I CONTROL  [initandlisten]     distmod: ubuntu1804\n",
      "2020-09-08T22:01:59.728-0300 I CONTROL  [initandlisten]     distarch: x86_64\n",
      "2020-09-08T22:01:59.728-0300 I CONTROL  [initandlisten]     target_arch: x86_64\n",
      "2020-09-08T22:01:59.728-0300 I CONTROL  [initandlisten] options: { storage: { dbPath: \"mongodb-4.0.11/data/db\" } }\n",
      "2020-09-08T22:01:59.728-0300 I STORAGE  [initandlisten] \n",
      "2020-09-08T22:01:59.728-0300 I STORAGE  [initandlisten] ** WARNING: Using the XFS filesystem is strongly recommended with the WiredTiger storage engine\n",
      "2020-09-08T22:01:59.728-0300 I STORAGE  [initandlisten] **          See http://dochub.mongodb.org/core/prodnotes-filesystem\n",
      "2020-09-08T22:01:59.728-0300 I STORAGE  [initandlisten] wiredtiger_open config: create,cache_size=2399M,session_max=20000,eviction=(threads_min=4,threads_max=4),config_base=false,statistics=(fast),log=(enabled=true,archive=true,path=journal,compressor=snappy),file_manager=(close_idle_time=100000),statistics_log=(wait=0),verbose=(recovery_progress),\n",
      "2020-09-08T22:02:00.590-0300 I STORAGE  [initandlisten] WiredTiger message [1599613320:590078][9049:0x7efc7d231c80], txn-recover: Set global recovery timestamp: 0\n",
      "2020-09-08T22:02:00.750-0300 I RECOVERY [initandlisten] WiredTiger recoveryTimestamp. Ts: Timestamp(0, 0)\n",
      "2020-09-08T22:02:00.997-0300 I CONTROL  [initandlisten] \n",
      "2020-09-08T22:02:00.997-0300 I CONTROL  [initandlisten] ** WARNING: Access control is not enabled for the database.\n",
      "2020-09-08T22:02:00.997-0300 I CONTROL  [initandlisten] **          Read and write access to data and configuration is unrestricted.\n",
      "2020-09-08T22:02:00.997-0300 I CONTROL  [initandlisten] \n",
      "2020-09-08T22:02:00.997-0300 I CONTROL  [initandlisten] ** WARNING: This server is bound to localhost.\n",
      "2020-09-08T22:02:00.997-0300 I CONTROL  [initandlisten] **          Remote systems will be unable to connect to this server. \n",
      "2020-09-08T22:02:00.997-0300 I CONTROL  [initandlisten] **          Start the server with --bind_ip <address> to specify which IP \n",
      "2020-09-08T22:02:00.997-0300 I CONTROL  [initandlisten] **          addresses it should serve responses from, or with --bind_ip_all to\n",
      "2020-09-08T22:02:00.997-0300 I CONTROL  [initandlisten] **          bind to all interfaces. If this behavior is desired, start the\n",
      "2020-09-08T22:02:00.997-0300 I CONTROL  [initandlisten] **          server with --bind_ip 127.0.0.1 to disable this warning.\n",
      "2020-09-08T22:02:00.997-0300 I CONTROL  [initandlisten] \n",
      "2020-09-08T22:02:00.997-0300 I CONTROL  [initandlisten] \n",
      "2020-09-08T22:02:00.997-0300 I CONTROL  [initandlisten] ** WARNING: /sys/kernel/mm/transparent_hugepage/enabled is 'always'.\n",
      "2020-09-08T22:02:00.997-0300 I CONTROL  [initandlisten] **        We suggest setting it to 'never'\n",
      "2020-09-08T22:02:00.997-0300 I CONTROL  [initandlisten] \n",
      "2020-09-08T22:02:00.998-0300 I STORAGE  [initandlisten] createCollection: admin.system.version with provided UUID: 73d7011d-b5d4-4d6a-9e0a-51965f414616\n",
      "2020-09-08T22:02:01.178-0300 I COMMAND  [initandlisten] setting featureCompatibilityVersion to 4.0\n",
      "2020-09-08T22:02:01.184-0300 I STORAGE  [initandlisten] createCollection: local.startup_log with generated UUID: 412d5cbf-cd28-474c-a200-f4a5e6b5c9ef\n",
      "2020-09-08T22:02:01.333-0300 I FTDC     [initandlisten] Initializing full-time diagnostic data capture with directory 'mongodb-4.0.11/data/db/diagnostic.data'\n",
      "2020-09-08T22:02:01.336-0300 I NETWORK  [initandlisten] waiting for connections on port 27017\n",
      "2020-09-08T22:02:01.336-0300 I STORAGE  [LogicalSessionCacheRefresh] createCollection: config.system.sessions with generated UUID: 50464bb2-e635-4616-b096-c149d25bac41\n",
      "2020-09-08T22:02:01.615-0300 I INDEX    [LogicalSessionCacheRefresh] build index on: config.system.sessions properties: { v: 2, key: { lastUse: 1 }, name: \"lsidTTLIndex\", ns: \"config.system.sessions\", expireAfterSeconds: 1800 }\n",
      "2020-09-08T22:02:01.615-0300 I INDEX    [LogicalSessionCacheRefresh] \t building index using bulk method; build may temporarily use up to 500 megabytes of RAM\n",
      "2020-09-08T22:02:01.617-0300 I INDEX    [LogicalSessionCacheRefresh] build index done.  scanned 0 total records. 0 secs\n",
      "2020-09-08T22:02:01.618-0300 I COMMAND  [LogicalSessionCacheRefresh] command config.$cmd command: createIndexes { createIndexes: \"system.sessions\", indexes: [ { key: { lastUse: 1 }, name: \"lsidTTLIndex\", expireAfterSeconds: 1800 } ], $db: \"config\" } numYields:0 reslen:114 locks:{ Global: { acquireCount: { r: 2, w: 2 } }, Database: { acquireCount: { w: 2, W: 1 } }, Collection: { acquireCount: { w: 2 } } } storage:{} protocol:op_msg 281ms\n",
      "2020-09-08T22:05:23.289-0300 I NETWORK  [listener] connection accepted from 127.0.0.1:53840 #1 (1 connection now open)\n",
      "2020-09-08T22:05:23.306-0300 I NETWORK  [conn1] received client metadata from 127.0.0.1:53840 conn1: { application: { name: \"MongoDB Shell\" }, driver: { name: \"MongoDB Internal Client\", version: \"4.0.11\" }, os: { type: \"Linux\", name: \"PRETTY_NAME=\"Debian GNU/Linux 10 (buster)\"\", architecture: \"x86_64\", version: \"Kernel 4.19.0-10-amd64\" } }\n",
      "2020-09-08T22:05:23.332-0300 I NETWORK  [conn1] end connection 127.0.0.1:53840 (0 connections now open)\n",
      "2020-09-08T22:08:08.248-0300 I NETWORK  [listener] connection accepted from 127.0.0.1:53858 #2 (1 connection now open)\n",
      "2020-09-08T22:08:08.266-0300 I NETWORK  [conn2] received client metadata from 127.0.0.1:53858 conn2: { driver: { name: \"mongo-go-driver\", version: \"v1.2.1\" }, os: { type: \"linux\", architecture: \"amd64\" }, platform: \"go1.12.17\" }\n",
      "2020-09-08T22:08:08.267-0300 I NETWORK  [listener] connection accepted from 127.0.0.1:53862 #3 (2 connections now open)\n",
      "2020-09-08T22:08:08.268-0300 I NETWORK  [conn3] received client metadata from 127.0.0.1:53862 conn3: { driver: { name: \"mongo-go-driver\", version: \"v1.2.1\" }, os: { type: \"linux\", architecture: \"amd64\" }, platform: \"go1.12.17\", application: { name: \"mongoimport\" } }\n",
      "2020-09-08T22:08:08.270-0300 I COMMAND  [conn3] CMD: drop test.products\n",
      "2020-09-08T22:08:08.363-0300 I NETWORK  [conn3] end connection 127.0.0.1:53862 (1 connection now open)\n",
      "2020-09-08T22:08:08.363-0300 I NETWORK  [conn2] end connection 127.0.0.1:53858 (0 connections now open)\n",
      "2020-09-08T22:08:53.168-0300 I NETWORK  [listener] connection accepted from 127.0.0.1:53868 #4 (1 connection now open)\n",
      "2020-09-08T22:08:53.168-0300 I NETWORK  [conn4] received client metadata from 127.0.0.1:53868 conn4: { driver: { name: \"mongo-go-driver\", version: \"v1.2.1\" }, os: { type: \"linux\", architecture: \"amd64\" }, platform: \"go1.12.17\" }\n",
      "2020-09-08T22:08:53.170-0300 I NETWORK  [listener] connection accepted from 127.0.0.1:53872 #5 (2 connections now open)\n",
      "2020-09-08T22:08:53.174-0300 I NETWORK  [conn5] received client metadata from 127.0.0.1:53872 conn5: { driver: { name: \"mongo-go-driver\", version: \"v1.2.1\" }, os: { type: \"linux\", architecture: \"amd64\" }, platform: \"go1.12.17\", application: { name: \"mongoimport\" } }\n",
      "2020-09-08T22:08:53.175-0300 I COMMAND  [conn5] CMD: drop test.products\n",
      "2020-09-08T22:08:53.265-0300 I NETWORK  [conn5] end connection 127.0.0.1:53872 (1 connection now open)\n",
      "2020-09-08T22:08:53.265-0300 I NETWORK  [conn4] end connection 127.0.0.1:53868 (0 connections now open)\n",
      "2020-09-08T22:10:24.087-0300 I NETWORK  [listener] connection accepted from 127.0.0.1:53942 #6 (1 connection now open)\n",
      "2020-09-08T22:10:24.087-0300 I NETWORK  [conn6] received client metadata from 127.0.0.1:53942 conn6: { driver: { name: \"mongo-go-driver\", version: \"v1.2.1\" }, os: { type: \"linux\", architecture: \"amd64\" }, platform: \"go1.12.17\" }\n",
      "2020-09-08T22:10:24.088-0300 I NETWORK  [listener] connection accepted from 127.0.0.1:53946 #7 (2 connections now open)\n",
      "2020-09-08T22:10:24.088-0300 I NETWORK  [conn7] received client metadata from 127.0.0.1:53946 conn7: { driver: { name: \"mongo-go-driver\", version: \"v1.2.1\" }, os: { type: \"linux\", architecture: \"amd64\" }, platform: \"go1.12.17\", application: { name: \"mongoimport\" } }\n",
      "2020-09-08T22:10:24.089-0300 I NETWORK  [conn7] end connection 127.0.0.1:53946 (1 connection now open)\n",
      "2020-09-08T22:10:24.089-0300 I NETWORK  [conn6] end connection 127.0.0.1:53942 (0 connections now open)\n",
      "2020-09-08T22:10:33.085-0300 I NETWORK  [listener] connection accepted from 127.0.0.1:53950 #8 (1 connection now open)\n",
      "2020-09-08T22:10:33.085-0300 I NETWORK  [conn8] received client metadata from 127.0.0.1:53950 conn8: { driver: { name: \"mongo-go-driver\", version: \"v1.2.1\" }, os: { type: \"linux\", architecture: \"amd64\" }, platform: \"go1.12.17\" }\n",
      "2020-09-08T22:10:33.086-0300 I NETWORK  [listener] connection accepted from 127.0.0.1:53954 #9 (2 connections now open)\n",
      "2020-09-08T22:10:33.087-0300 I NETWORK  [conn9] received client metadata from 127.0.0.1:53954 conn9: { driver: { name: \"mongo-go-driver\", version: \"v1.2.1\" }, os: { type: \"linux\", architecture: \"amd64\" }, platform: \"go1.12.17\", application: { name: \"mongoimport\" } }\n",
      "2020-09-08T22:10:33.090-0300 I NETWORK  [conn9] end connection 127.0.0.1:53954 (1 connection now open)\n",
      "2020-09-08T22:10:33.090-0300 I NETWORK  [conn8] end connection 127.0.0.1:53950 (0 connections now open)\n",
      "2020-09-08T22:10:55.725-0300 I NETWORK  [listener] connection accepted from 127.0.0.1:53962 #10 (1 connection now open)\n",
      "2020-09-08T22:10:55.727-0300 I NETWORK  [conn10] received client metadata from 127.0.0.1:53962 conn10: { driver: { name: \"mongo-go-driver\", version: \"v1.2.1\" }, os: { type: \"linux\", architecture: \"amd64\" }, platform: \"go1.12.17\" }\n",
      "2020-09-08T22:10:55.728-0300 I NETWORK  [listener] connection accepted from 127.0.0.1:53966 #11 (2 connections now open)\n",
      "2020-09-08T22:10:55.728-0300 I NETWORK  [conn11] received client metadata from 127.0.0.1:53966 conn11: { driver: { name: \"mongo-go-driver\", version: \"v1.2.1\" }, os: { type: \"linux\", architecture: \"amd64\" }, platform: \"go1.12.17\", application: { name: \"mongoimport\" } }\n",
      "2020-09-08T22:10:55.730-0300 I COMMAND  [conn11] CMD: drop test.products\n",
      "2020-09-08T22:10:55.816-0300 I NETWORK  [conn11] end connection 127.0.0.1:53966 (1 connection now open)\n",
      "2020-09-08T22:10:55.816-0300 I NETWORK  [conn10] end connection 127.0.0.1:53962 (0 connections now open)\n",
      "2020-09-08T22:16:29.073-0300 I NETWORK  [listener] connection accepted from 127.0.0.1:54350 #12 (1 connection now open)\n",
      "2020-09-08T22:16:29.073-0300 I NETWORK  [conn12] received client metadata from 127.0.0.1:54350 conn12: { driver: { name: \"mongo-go-driver\", version: \"v1.2.1\" }, os: { type: \"linux\", architecture: \"amd64\" }, platform: \"go1.12.17\" }\n",
      "2020-09-08T22:16:29.074-0300 I NETWORK  [listener] connection accepted from 127.0.0.1:54354 #13 (2 connections now open)\n",
      "2020-09-08T22:16:29.074-0300 I NETWORK  [conn13] received client metadata from 127.0.0.1:54354 conn13: { driver: { name: \"mongo-go-driver\", version: \"v1.2.1\" }, os: { type: \"linux\", architecture: \"amd64\" }, platform: \"go1.12.17\", application: { name: \"mongoimport\" } }\n",
      "2020-09-08T22:16:29.075-0300 I COMMAND  [conn13] CMD: drop test.products\n",
      "2020-09-08T22:16:29.180-0300 I NETWORK  [conn13] end connection 127.0.0.1:54354 (1 connection now open)\n",
      "2020-09-08T22:16:29.180-0300 I NETWORK  [conn12] end connection 127.0.0.1:54350 (0 connections now open)\n",
      "2020-09-08T22:17:20.526-0300 I NETWORK  [listener] connection accepted from 127.0.0.1:54382 #14 (1 connection now open)\n",
      "2020-09-08T22:17:20.527-0300 I NETWORK  [conn14] received client metadata from 127.0.0.1:54382 conn14: { driver: { name: \"mongo-go-driver\", version: \"v1.2.1\" }, os: { type: \"linux\", architecture: \"amd64\" }, platform: \"go1.12.17\" }\n",
      "2020-09-08T22:17:20.528-0300 I NETWORK  [listener] connection accepted from 127.0.0.1:54386 #15 (2 connections now open)\n",
      "2020-09-08T22:17:20.528-0300 I NETWORK  [conn15] received client metadata from 127.0.0.1:54386 conn15: { driver: { name: \"mongo-go-driver\", version: \"v1.2.1\" }, os: { type: \"linux\", architecture: \"amd64\" }, platform: \"go1.12.17\", application: { name: \"mongoimport\" } }\n",
      "2020-09-08T22:17:20.530-0300 I COMMAND  [conn15] CMD: drop test.products\n",
      "2020-09-08T22:17:20.550-0300 I NETWORK  [conn15] end connection 127.0.0.1:54386 (1 connection now open)\n",
      "2020-09-08T22:17:20.550-0300 I NETWORK  [conn14] end connection 127.0.0.1:54382 (0 connections now open)\n",
      "2020-09-08T22:19:43.259-0300 I NETWORK  [listener] connection accepted from 127.0.0.1:54498 #16 (1 connection now open)\n",
      "2020-09-08T22:19:43.260-0300 I NETWORK  [conn16] received client metadata from 127.0.0.1:54498 conn16: { driver: { name: \"mongo-go-driver\", version: \"v1.2.1\" }, os: { type: \"linux\", architecture: \"amd64\" }, platform: \"go1.12.17\" }\n",
      "2020-09-08T22:19:43.261-0300 I NETWORK  [listener] connection accepted from 127.0.0.1:54502 #17 (2 connections now open)\n",
      "2020-09-08T22:19:43.261-0300 I NETWORK  [conn17] received client metadata from 127.0.0.1:54502 conn17: { driver: { name: \"mongo-go-driver\", version: \"v1.2.1\" }, os: { type: \"linux\", architecture: \"amd64\" }, platform: \"go1.12.17\", application: { name: \"mongoimport\" } }\n",
      "2020-09-08T22:19:43.262-0300 I COMMAND  [conn17] CMD: drop test.products\n",
      "2020-09-08T22:19:43.358-0300 I NETWORK  [conn17] end connection 127.0.0.1:54502 (1 connection now open)\n",
      "2020-09-08T22:19:43.358-0300 I NETWORK  [conn16] end connection 127.0.0.1:54498 (0 connections now open)\n",
      "2020-09-08T22:19:46.177-0300 I NETWORK  [listener] connection accepted from 127.0.0.1:54506 #18 (1 connection now open)\n",
      "2020-09-08T22:19:46.177-0300 I NETWORK  [conn18] received client metadata from 127.0.0.1:54506 conn18: { driver: { name: \"mongo-go-driver\", version: \"v1.2.1\" }, os: { type: \"linux\", architecture: \"amd64\" }, platform: \"go1.12.17\" }\n",
      "2020-09-08T22:19:46.179-0300 I NETWORK  [listener] connection accepted from 127.0.0.1:54510 #19 (2 connections now open)\n",
      "2020-09-08T22:19:46.180-0300 I NETWORK  [conn19] received client metadata from 127.0.0.1:54510 conn19: { driver: { name: \"mongo-go-driver\", version: \"v1.2.1\" }, os: { type: \"linux\", architecture: \"amd64\" }, platform: \"go1.12.17\", application: { name: \"mongoimport\" } }\n",
      "2020-09-08T22:19:46.181-0300 I COMMAND  [conn19] CMD: drop test.products\n",
      "2020-09-08T22:19:46.278-0300 I NETWORK  [conn19] end connection 127.0.0.1:54510 (1 connection now open)\n",
      "2020-09-08T22:19:46.278-0300 I NETWORK  [conn18] end connection 127.0.0.1:54506 (0 connections now open)\n",
      "2020-09-08T22:19:50.836-0300 I NETWORK  [listener] connection accepted from 127.0.0.1:54514 #20 (1 connection now open)\n",
      "2020-09-08T22:19:50.836-0300 I NETWORK  [conn20] received client metadata from 127.0.0.1:54514 conn20: { driver: { name: \"mongo-go-driver\", version: \"v1.2.1\" }, os: { type: \"linux\", architecture: \"amd64\" }, platform: \"go1.12.17\" }\n",
      "2020-09-08T22:19:50.837-0300 I NETWORK  [listener] connection accepted from 127.0.0.1:54518 #21 (2 connections now open)\n",
      "2020-09-08T22:19:50.837-0300 I NETWORK  [conn21] received client metadata from 127.0.0.1:54518 conn21: { driver: { name: \"mongo-go-driver\", version: \"v1.2.1\" }, os: { type: \"linux\", architecture: \"amd64\" }, platform: \"go1.12.17\", application: { name: \"mongoimport\" } }\n",
      "2020-09-08T22:19:50.838-0300 I COMMAND  [conn21] CMD: drop test.products\n",
      "2020-09-08T22:19:50.934-0300 I NETWORK  [conn21] end connection 127.0.0.1:54518 (0 connections now open)\n",
      "2020-09-08T22:19:50.934-0300 I NETWORK  [conn20] end connection 127.0.0.1:54514 (1 connection now open)\n",
      "2020-09-08T22:22:27.131-0300 I NETWORK  [listener] connection accepted from 127.0.0.1:54572 #22 (1 connection now open)\n",
      "2020-09-08T22:22:27.131-0300 I NETWORK  [conn22] received client metadata from 127.0.0.1:54572 conn22: { driver: { name: \"mongo-go-driver\", version: \"v1.2.1\" }, os: { type: \"linux\", architecture: \"amd64\" }, platform: \"go1.12.17\" }\n",
      "2020-09-08T22:22:27.132-0300 I NETWORK  [listener] connection accepted from 127.0.0.1:54576 #23 (2 connections now open)\n",
      "2020-09-08T22:22:27.132-0300 I NETWORK  [conn23] received client metadata from 127.0.0.1:54576 conn23: { driver: { name: \"mongo-go-driver\", version: \"v1.2.1\" }, os: { type: \"linux\", architecture: \"amd64\" }, platform: \"go1.12.17\", application: { name: \"mongoimport\" } }\n",
      "2020-09-08T22:22:27.133-0300 I COMMAND  [conn23] CMD: drop test.products\n",
      "2020-09-08T22:22:27.207-0300 I STORAGE  [conn23] createCollection: test.products with generated UUID: 2468d38a-42ff-493f-9175-95316d86d98d\n",
      "2020-09-08T22:22:27.474-0300 I COMMAND  [conn23] command test.products appName: \"mongoimport\" command: insert { insert: \"products\", ordered: false, writeConcern: { w: \"majority\" }, lsid: { id: UUID(\"b07681fd-b6af-45dc-926a-49a96d153f8c\") }, $db: \"test\" } ninserted:1000 keysInserted:1000 numYields:0 reslen:45 locks:{ Global: { acquireCount: { r: 18, w: 18 } }, Database: { acquireCount: { w: 17, W: 1 } }, Collection: { acquireCount: { w: 17 } } } storage:{} protocol:op_msg 266ms\n",
      "2020-09-08T22:22:28.335-0300 I NETWORK  [conn22] end connection 127.0.0.1:54572 (1 connection now open)\n",
      "2020-09-08T22:22:28.335-0300 I NETWORK  [conn23] end connection 127.0.0.1:54576 (0 connections now open)\n"
     ]
    }
   ],
   "source": [
    "!mkdir ${MONGODB_PATH}/data/db -p\n",
    "!${MONGODB_PATH}/bin/mongod --dbpath ${MONGODB_PATH}/data/db"
   ]
  }
 ],
 "metadata": {
  "kernelspec": {
   "display_name": "Python 3",
   "language": "python",
   "name": "python3"
  },
  "language_info": {
   "codemirror_mode": {
    "name": "ipython",
    "version": 3
   },
   "file_extension": ".py",
   "mimetype": "text/x-python",
   "name": "python",
   "nbconvert_exporter": "python",
   "pygments_lexer": "ipython3",
   "version": "3.7.3"
  }
 },
 "nbformat": 4,
 "nbformat_minor": 4
}
