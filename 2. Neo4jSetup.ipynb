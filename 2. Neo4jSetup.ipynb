{
 "cells": [
  {
   "cell_type": "code",
   "execution_count": null,
   "metadata": {},
   "outputs": [],
   "source": [
    "%env NEO4J_VERSION neo4j-community-2.3.12\n",
    "%env NEO4J_PATH    neo4j-community-2.3.12"
   ]
  },
  {
   "cell_type": "code",
   "execution_count": null,
   "metadata": {},
   "outputs": [],
   "source": [
    "!sudo apt-get install openjdk-8-jdk -y >/dev/null"
   ]
  },
  {
   "cell_type": "code",
   "execution_count": 3,
   "metadata": {},
   "outputs": [
    {
     "name": "stdout",
     "output_type": "stream",
     "text": [
      "artifact.php?name=n 100%[===================>]  56.02M   109MB/s    in 0.5s    \n"
     ]
    }
   ],
   "source": [
    "!wget https://neo4j.com/artifact.php?name=${NEO4J_VERSION}-unix.tar.gz -q --show-progress\n",
    "!mv artifact.php?name=${NEO4J_VERSION}-unix.tar.gz ${NEO4J_VERSION}.tar.gz\n",
    "!tar -xvf ${NEO4J_VERSION}.tar.gz >/dev/null \n",
    "!rm       ${NEO4J_VERSION}.tar.gz"
   ]
  },
  {
   "cell_type": "code",
   "execution_count": 4,
   "metadata": {},
   "outputs": [],
   "source": [
    "!sed -i 's/dbms.security.auth_enabled=true/dbms.security.auth_enabled=false/' neo4j-community-2.3.12/conf/neo4j-server.properties"
   ]
  },
  {
   "cell_type": "code",
   "execution_count": null,
   "metadata": {},
   "outputs": [
    {
     "name": "stdout",
     "output_type": "stream",
     "text": [
      "WARNING: Max 4096 open files allowed, minimum of 40 000 recommended. See the Neo4j manual.\n",
      "Starting Neo4j Server console-mode...\n",
      "2020-09-09 16:07:46.328+0000 INFO  No SSL certificate found, generating a self-signed certificate..\n",
      "2020-09-09 16:07:49.108+0000 INFO  Successfully started database\n",
      "2020-09-09 16:07:49.127+0000 INFO  Starting HTTP on port 7474 (2 threads available)\n",
      "2020-09-09 16:07:49.291+0000 INFO  Enabling HTTPS on port 7473\n",
      "2020-09-09 16:07:49.375+0000 INFO  Mounting static content at /webadmin\n",
      "2020-09-09 16:07:49.413+0000 INFO  Mounting static content at /browser\n",
      "2020-09-09 16:07:50.346+0000 INFO  Remote interface ready and available at http://localhost:7474/\n"
     ]
    }
   ],
   "source": [
    "!cd ${NEO4J_PATH} && ./bin/neo4j console"
   ]
  }
 ],
 "metadata": {
  "kernelspec": {
   "display_name": "Python 3",
   "language": "python",
   "name": "python3"
  },
  "language_info": {
   "codemirror_mode": {
    "name": "ipython",
    "version": 3
   },
   "file_extension": ".py",
   "mimetype": "text/x-python",
   "name": "python",
   "nbconvert_exporter": "python",
   "pygments_lexer": "ipython3",
   "version": "3.6.9"
  }
 },
 "nbformat": 4,
 "nbformat_minor": 4
}
