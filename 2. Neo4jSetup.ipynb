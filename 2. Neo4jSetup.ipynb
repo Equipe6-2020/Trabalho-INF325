{
 "cells": [
  {
   "cell_type": "code",
   "execution_count": null,
   "metadata": {},
   "outputs": [],
   "source": [
    "%env NEO4J_VERSION neo4j-community-2.3.12\n",
    "%env NEO4J_PATH    neo4j-community-2.3.12"
   ]
  },
  {
   "cell_type": "code",
   "execution_count": null,
   "metadata": {},
   "outputs": [],
   "source": [
    "!wget https://neo4j.com/artifact.php?name=${NEO4J_VERSION}-unix.tar.gz -q --show-progress\n",
    "!mv artifact.php?name=${NEO4J_VERSION}-unix.tar.gz ${NEO4J_VERSION}.tar.gz\n",
    "!tar -xvf ${NEO4J_VERSION}.tar.gz >/dev/null \n",
    "!rm       ${NEO4J_VERSION}.tar.gz"
   ]
  },
  {
   "cell_type": "code",
   "execution_count": null,
   "metadata": {},
   "outputs": [],
   "source": [
    "!sed -i 's/dbms.security.auth_enabled=true/dbms.security.auth_enabled=false/' neo4j-community-2.3.12/conf/neo4j-server.properties"
   ]
  },
  {
   "cell_type": "code",
   "execution_count": null,
   "metadata": {},
   "outputs": [],
   "source": [
    "!cd ${NEO4J_PATH} && ./bin/neo4j console"
   ]
  }
 ],
 "metadata": {
  "kernelspec": {
   "display_name": "Python 3",
   "language": "python",
   "name": "python3"
  },
  "language_info": {
   "codemirror_mode": {
    "name": "ipython",
    "version": 3
   },
   "file_extension": ".py",
   "mimetype": "text/x-python",
   "name": "python",
   "nbconvert_exporter": "python",
   "pygments_lexer": "ipython3",
   "version": "3.7.8"
  }
 },
 "nbformat": 4,
 "nbformat_minor": 4
}
