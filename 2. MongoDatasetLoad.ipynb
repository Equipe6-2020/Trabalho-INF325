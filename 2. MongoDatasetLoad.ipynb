{
 "cells": [
  {
   "cell_type": "code",
   "execution_count": null,
   "metadata": {},
   "outputs": [],
   "source": [
    "%env MONGODB_VERSION      4.0.11\n",
    "%env MONGODB_PATH mongodb-4.0.11"
   ]
  },
  {
   "cell_type": "code",
   "execution_count": null,
   "metadata": {},
   "outputs": [],
   "source": [
    "!${MONGODB_PATH}/bin/mongo --help"
   ]
  },
  {
   "cell_type": "code",
   "execution_count": null,
   "metadata": {},
   "outputs": [],
   "source": [
    "!${MONGODB_PATH}/bin/mongo --eval \"printjson(db.serverStatus())\""
   ]
  },
  {
   "cell_type": "code",
   "execution_count": 21,
   "metadata": {},
   "outputs": [
    {
     "name": "stdout",
     "output_type": "stream",
     "text": [
      "2020-09-09T00:23:00.654-0300\tconnected to: mongodb://localhost/\n",
      "2020-09-09T00:23:00.654-0300\tdropping: mkt.customers\n",
      "2020-09-09T00:23:02.922-0300\t99441 document(s) imported successfully. 0 document(s) failed to import.\n"
     ]
    }
   ],
   "source": [
    "!${MONGODB_PATH}/bin/mongoimport --db mkt --collection customers --drop --jsonArray --file dataset/olist_customers_dataset.json"
   ]
  },
  {
   "cell_type": "code",
   "execution_count": 22,
   "metadata": {},
   "outputs": [
    {
     "name": "stdout",
     "output_type": "stream",
     "text": [
      "2020-09-09T00:23:03.989-0300\tconnected to: mongodb://localhost/\n",
      "2020-09-09T00:23:03.989-0300\tdropping: mkt.payments\n",
      "2020-09-09T00:23:06.279-0300\t103886 document(s) imported successfully. 0 document(s) failed to import.\n"
     ]
    }
   ],
   "source": [
    "!${MONGODB_PATH}/bin/mongoimport --db mkt --collection payments --drop --jsonArray --file dataset/olist_order_payments_dataset.json"
   ]
  },
  {
   "cell_type": "code",
   "execution_count": 23,
   "metadata": {},
   "outputs": [
    {
     "name": "stdout",
     "output_type": "stream",
     "text": [
      "2020-09-09T00:23:08.124-0300\tconnected to: mongodb://localhost/\n",
      "2020-09-09T00:23:08.125-0300\tdropping: mkt.orders\n",
      "2020-09-09T00:23:10.789-0300\t99441 document(s) imported successfully. 0 document(s) failed to import.\n"
     ]
    }
   ],
   "source": [
    "!${MONGODB_PATH}/bin/mongoimport --db mkt --collection orders --drop --jsonArray --file dataset/olist_orders_dataset.json"
   ]
  },
  {
   "cell_type": "code",
   "execution_count": 24,
   "metadata": {},
   "outputs": [
    {
     "name": "stdout",
     "output_type": "stream",
     "text": [
      "2020-09-09T00:23:11.351-0300\tconnected to: mongodb://localhost/\n",
      "2020-09-09T00:23:11.351-0300\tdropping: mkt.products\n",
      "2020-09-09T00:23:12.432-0300\t32951 document(s) imported successfully. 0 document(s) failed to import.\n"
     ]
    }
   ],
   "source": [
    "!${MONGODB_PATH}/bin/mongoimport --db mkt --collection products --drop --jsonArray --file dataset/olist_products_dataset.json"
   ]
  },
  {
   "cell_type": "code",
   "execution_count": 25,
   "metadata": {},
   "outputs": [
    {
     "name": "stdout",
     "output_type": "stream",
     "text": [
      "2020-09-09T00:23:13.618-0300\tconnected to: mongodb://localhost/\n",
      "2020-09-09T00:23:13.618-0300\tdropping: mkt.sellers\n",
      "2020-09-09T00:23:13.997-0300\t3095 document(s) imported successfully. 0 document(s) failed to import.\n"
     ]
    }
   ],
   "source": [
    "!${MONGODB_PATH}/bin/mongoimport --db mkt --collection sellers --drop --jsonArray --file dataset/olist_sellers_dataset.json"
   ]
  },
  {
   "cell_type": "code",
   "execution_count": 26,
   "metadata": {},
   "outputs": [
    {
     "name": "stdout",
     "output_type": "stream",
     "text": [
      "2020-09-09T00:23:17.029-0300\tconnected to: mongodb://localhost/\n",
      "2020-09-09T00:23:17.029-0300\tdropping: mkt.productcategory\n",
      "2020-09-09T00:23:17.373-0300\t71 document(s) imported successfully. 0 document(s) failed to import.\n"
     ]
    }
   ],
   "source": [
    "!${MONGODB_PATH}/bin/mongoimport --db mkt --collection productcategory --drop --jsonArray --file dataset/product_category_name_translation.json"
   ]
  },
  {
   "cell_type": "code",
   "execution_count": null,
   "metadata": {},
   "outputs": [],
   "source": []
  }
 ],
 "metadata": {
  "kernelspec": {
   "display_name": "Python 3",
   "language": "python",
   "name": "python3"
  },
  "language_info": {
   "codemirror_mode": {
    "name": "ipython",
    "version": 3
   },
   "file_extension": ".py",
   "mimetype": "text/x-python",
   "name": "python",
   "nbconvert_exporter": "python",
   "pygments_lexer": "ipython3",
   "version": "3.7.3"
  }
 },
 "nbformat": 4,
 "nbformat_minor": 4
}
