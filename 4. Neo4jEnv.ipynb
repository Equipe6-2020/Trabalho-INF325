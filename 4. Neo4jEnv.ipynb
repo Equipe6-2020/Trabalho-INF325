{
 "cells": [
  {
   "cell_type": "code",
   "execution_count": null,
   "metadata": {},
   "outputs": [],
   "source": [
    "%env SERVER_URL    127.0.0.1\n",
    "%env PROXY_SUBURL  proxy/7474/browser/"
   ]
  },
  {
   "cell_type": "code",
   "execution_count": 1,
   "metadata": {},
   "outputs": [],
   "source": [
    "!pip3 install ipython-cypher neo4j py2neo >/dev/null"
   ]
  },
  {
   "cell_type": "code",
   "execution_count": 2,
   "metadata": {},
   "outputs": [
    {
     "name": "stdout",
     "output_type": "stream",
     "text": [
      "env: NEO4J_VERSION=neo4j-community-4.1.1\n",
      "env: NEO4J_PATH=neo4j-community-4.1.1\n"
     ]
    }
   ],
   "source": [
    "%env NEO4J_VERSION neo4j-community-4.1.1\n",
    "%env NEO4J_PATH    neo4j-community-4.1.1"
   ]
  },
  {
   "cell_type": "code",
   "execution_count": 3,
   "metadata": {},
   "outputs": [
    {
     "name": "stdout",
     "output_type": "stream",
     "text": [
      "Neo4j is not running\n"
     ]
    }
   ],
   "source": [
    "!${NEO4J_PATH}/bin/neo4j status"
   ]
  },
  {
   "cell_type": "code",
   "execution_count": 29,
   "metadata": {},
   "outputs": [
    {
     "name": "stdout",
     "output_type": "stream",
     "text": [
      "{\n",
      "  \"bolt_routing\" : \"neo4j://localhost:7687\",\n",
      "  \"transaction\" : \"http://localhost:7474/db/{databaseName}/tx\",\n",
      "  \"bolt_direct\" : \"bolt://localhost:7687\",\n",
      "  \"neo4j_version\" : \"4.1.1\",\n",
      "  \"neo4j_edition\" : \"community\"\n",
      "}"
     ]
    }
   ],
   "source": [
    "!curl http://localhost:7474/"
   ]
  },
  {
   "cell_type": "code",
   "execution_count": 35,
   "metadata": {},
   "outputs": [
    {
     "name": "stdout",
     "output_type": "stream",
     "text": [
      "['__bool__', '__class__', '__delattr__', '__dict__', '__dir__', '__doc__', '__eq__', '__format__', '__ge__', '__getattribute__', '__gt__', '__hash__', '__init__', '__init_subclass__', '__le__', '__len__', '__lt__', '__module__', '__name__', '__ne__', '__new__', '__nonzero__', '__reduce__', '__reduce_ex__', '__repr__', '__setattr__', '__sizeof__', '__str__', '__subclasshook__', '__weakref__', '_procedures', 'auto', 'begin', 'call', 'create', 'delete', 'delete_all', 'evaluate', 'exists', 'match', 'match_one', 'merge', 'name', 'node_cache', 'nodes', 'play', 'pull', 'push', 'relationship_cache', 'relationships', 'run', 'schema', 'separate', 'service']\n",
      "Number of nodes: 0 \n",
      "Number of relationships: 0 \n"
     ]
    },
    {
     "data": {
      "text/plain": [
       " type      | name                     | text                                                                                                                                                                                             | signature                                                                                                                                                                                                                    | roles | writes | core \n",
       "-----------|--------------------------|--------------------------------------------------------------------------------------------------------------------------------------------------------------------------------------------------|------------------------------------------------------------------------------------------------------------------------------------------------------------------------------------------------------------------------------|-------|--------|------\n",
       " procedure | apoc.algo.aStar          | apoc.algo.aStar(startNode, endNode, 'KNOWS|<WORKS_WITH|IS_MANAGER_OF>', 'distance','lat','lon') YIELD path, weight - run A* with relationship property name as cost function                     | apoc.algo.aStar(startNode :: NODE?, endNode :: NODE?, relationshipTypesAndDirections :: STRING?, weightPropertyName :: STRING?, latPropertyName :: STRING?, lonPropertyName :: STRING?) :: (path :: PATH?, weight :: FLOAT?) |  null |   null | true \n",
       " procedure | apoc.algo.aStarConfig    | apoc.algo.aStar(startNode, endNode, 'KNOWS|<WORKS_WITH|IS_MANAGER_OF>', {weight:'dist',default:10,x:'lon',y:'lat'}) YIELD path, weight - run A* with relationship property name as cost function | apoc.algo.aStarConfig(startNode :: NODE?, endNode :: NODE?, relationshipTypesAndDirections :: STRING?, config :: MAP?) :: (path :: PATH?, weight :: FLOAT?)                                                                  |  null |   null | true \n",
       " procedure | apoc.algo.allSimplePaths | apoc.algo.allSimplePaths(startNode, endNode, 'KNOWS|<WORKS_WITH|IS_MANAGER_OF>', 5) YIELD path, weight - run allSimplePaths with relationships given and maxNodes                                | apoc.algo.allSimplePaths(startNode :: NODE?, endNode :: NODE?, relationshipTypesAndDirections :: STRING?, maxNodes :: INTEGER?) :: (path :: PATH?)                                                                           |  null |   null | true "
      ]
     },
     "execution_count": 35,
     "metadata": {},
     "output_type": "execute_result"
    }
   ],
   "source": [
    "# criando um adapter e verificando a conexão\n",
    "from py2neo import Graph\n",
    "\n",
    "graph = Graph(\"bolt://127.0.0.1:7687\")\n",
    "\n",
    "print(dir(graph))\n",
    "\n",
    "graph.delete_all()\n",
    "print(\"Number of nodes: {} \".format(len(graph.nodes)))\n",
    "print(\"Number of relationships: {} \".format(len(graph.relationships)))\n",
    "\n"
   ]
  },
  {
   "cell_type": "code",
   "execution_count": 36,
   "metadata": {},
   "outputs": [
    {
     "data": {
      "text/plain": [
       " type      | name                     | text                                                                                                                                                                                             | signature                                                                                                                                                                                                                    | roles | writes | core \n",
       "-----------|--------------------------|--------------------------------------------------------------------------------------------------------------------------------------------------------------------------------------------------|------------------------------------------------------------------------------------------------------------------------------------------------------------------------------------------------------------------------------|-------|--------|------\n",
       " procedure | apoc.algo.aStar          | apoc.algo.aStar(startNode, endNode, 'KNOWS|<WORKS_WITH|IS_MANAGER_OF>', 'distance','lat','lon') YIELD path, weight - run A* with relationship property name as cost function                     | apoc.algo.aStar(startNode :: NODE?, endNode :: NODE?, relationshipTypesAndDirections :: STRING?, weightPropertyName :: STRING?, latPropertyName :: STRING?, lonPropertyName :: STRING?) :: (path :: PATH?, weight :: FLOAT?) |  null |   null | true \n",
       " procedure | apoc.algo.aStarConfig    | apoc.algo.aStar(startNode, endNode, 'KNOWS|<WORKS_WITH|IS_MANAGER_OF>', {weight:'dist',default:10,x:'lon',y:'lat'}) YIELD path, weight - run A* with relationship property name as cost function | apoc.algo.aStarConfig(startNode :: NODE?, endNode :: NODE?, relationshipTypesAndDirections :: STRING?, config :: MAP?) :: (path :: PATH?, weight :: FLOAT?)                                                                  |  null |   null | true \n",
       " procedure | apoc.algo.allSimplePaths | apoc.algo.allSimplePaths(startNode, endNode, 'KNOWS|<WORKS_WITH|IS_MANAGER_OF>', 5) YIELD path, weight - run allSimplePaths with relationships given and maxNodes                                | apoc.algo.allSimplePaths(startNode :: NODE?, endNode :: NODE?, relationshipTypesAndDirections :: STRING?, maxNodes :: INTEGER?) :: (path :: PATH?)                                                                           |  null |   null | true "
      ]
     },
     "execution_count": 36,
     "metadata": {},
     "output_type": "execute_result"
    }
   ],
   "source": [
    "graph.run('CALL apoc.help(\"apoc\")')"
   ]
  },
  {
   "cell_type": "code",
   "execution_count": 37,
   "metadata": {},
   "outputs": [
    {
     "data": {
      "text/plain": [
       " p1                        | p2                          \n",
       "---------------------------|-----------------------------\n",
       " (_0:Person {name: 'Bob'}) | (_1:Person {name: 'Alice'}) "
      ]
     },
     "execution_count": 37,
     "metadata": {},
     "output_type": "execute_result"
    }
   ],
   "source": [
    "command = \"\"\"CREATE (p1:Person {name:'Bob'}),\n",
    "       (p2:Person {name:'Alice'}   )\n",
    "return p1, p2\"\"\"\n",
    "\n",
    "graph.run(command)"
   ]
  },
  {
   "cell_type": "code",
   "execution_count": null,
   "metadata": {},
   "outputs": [],
   "source": []
  }
 ],
 "metadata": {
  "kernelspec": {
   "display_name": "Python 3",
   "language": "python",
   "name": "python3"
  },
  "language_info": {
   "codemirror_mode": {
    "name": "ipython",
    "version": 3
   },
   "file_extension": ".py",
   "mimetype": "text/x-python",
   "name": "python",
   "nbconvert_exporter": "python",
   "pygments_lexer": "ipython3",
   "version": "3.7.6"
  }
 },
 "nbformat": 4,
 "nbformat_minor": 4
}
