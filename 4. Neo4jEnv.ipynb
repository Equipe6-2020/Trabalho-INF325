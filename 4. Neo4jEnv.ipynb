{
 "cells": [
  {
   "cell_type": "code",
   "execution_count": 1,
   "metadata": {},
   "outputs": [],
   "source": [
    "!pip3 install ipython-cypher neo4j py2neo ipycytoscape >/dev/null"
   ]
  },
  {
   "cell_type": "code",
   "execution_count": 2,
   "metadata": {},
   "outputs": [
    {
     "name": "stdout",
     "output_type": "stream",
     "text": [
      "env: NEO4J_VERSION=neo4j-community-4.1.1\n",
      "env: NEO4J_PATH=neo4j-community-4.1.1\n"
     ]
    }
   ],
   "source": [
    "%env NEO4J_VERSION neo4j-community-4.1.1\n",
    "%env NEO4J_PATH    neo4j-community-4.1.1"
   ]
  },
  {
   "cell_type": "code",
   "execution_count": 3,
   "metadata": {},
   "outputs": [
    {
     "name": "stdout",
     "output_type": "stream",
     "text": [
      "Neo4j is not running\n"
     ]
    }
   ],
   "source": [
    "!${NEO4J_PATH}/bin/neo4j status"
   ]
  },
  {
   "cell_type": "code",
   "execution_count": 4,
   "metadata": {},
   "outputs": [
    {
     "name": "stdout",
     "output_type": "stream",
     "text": [
      "{\n",
      "  \"bolt_routing\" : \"neo4j://localhost:7687\",\n",
      "  \"transaction\" : \"http://localhost:7474/db/{databaseName}/tx\",\n",
      "  \"bolt_direct\" : \"bolt://localhost:7687\",\n",
      "  \"neo4j_version\" : \"4.1.1\",\n",
      "  \"neo4j_edition\" : \"community\"\n",
      "}"
     ]
    }
   ],
   "source": [
    "!curl http://localhost:7474/"
   ]
  },
  {
   "cell_type": "code",
   "execution_count": 19,
   "metadata": {},
   "outputs": [
    {
     "name": "stdout",
     "output_type": "stream",
     "text": [
      "Number of nodes: 0 \n",
      "Number of relationships: 0 \n"
     ]
    }
   ],
   "source": [
    "# criando um adapter e verificando a conexão\n",
    "from py2neo import Graph\n",
    "\n",
    "graph = Graph(\"bolt://127.0.0.1:7687\")\n",
    "\n",
    "graph.delete_all()\n",
    "print(\"Number of nodes: {} \".format(len(graph.nodes)))\n",
    "print(\"Number of relationships: {} \".format(len(graph.relationships)))\n"
   ]
  },
  {
   "cell_type": "code",
   "execution_count": 21,
   "metadata": {},
   "outputs": [],
   "source": [
    "command = \"\"\"\n",
    "CALL apoc.load.json('dataset/json_orders_relations.json') yield value\n",
    "MERGE (pedido:Pedido {id : value.order_id})\n",
    "    ON CREATE SET pedido.nome = value.order_id,\n",
    "                  pedido.status = value.order_status,\n",
    "                  pedido.order_purchase_timestamp = value.order_purchase_timestamp,\n",
    "                  pedido.order_approved_at = value.order_approved_at,\n",
    "                  pedido.order_delivered_carrier_date = value.order_delivered_carrier_date,\n",
    "                  pedido.order_delivered_customer_date = value.order_delivered_customer_date,\n",
    "                  pedido.order_estimated_delivery_date = value.order_estimated_delivery_date\n",
    "MERGE (cliente:Cliente {id : value.customer_id})\n",
    "    ON CREATE SET cliente.nome = value.customer_id\n",
    "MERGE (regiao : Regiao {id : value.Customer.customer_zip_code_prefix})\n",
    "    ON CREATE SET regiao.nome = value.Customer.customer_zip_code_prefix\n",
    "MERGE (cidade : Cidade {id : value.Customer.customer_city})\n",
    "    ON CREATE SET cidade.nome = value.Customer.customer_city\n",
    "MERGE (estado : Estado {id : value.Customer.customer_state})\n",
    "    ON CREATE SET estado.nome = value.Customer.customer_state\n",
    "WITH value\n",
    "UNWIND value.OrderItems as items\n",
    "MERGE (item_pedido: ItemPedido {id: value.order_id+'-'+items.order_item_id})\n",
    "    ON CREATE SET item_pedido.nome = value.order_id+'-'+items.order_item_id,\n",
    "                  item_pedido.preco = items.price,\n",
    "                  item_pedido.shipping_limit_date = items.shipping_limit_date,\n",
    "                  item_pedido.frete = items.freight_value\n",
    "MERGE (produto: Produto {id : items.product_id})\n",
    "    ON CREATE SET produto.nome = items.product_id,\n",
    "                  produto.product_name_lenght = items.product.product_name_lenght,\n",
    "                  produto.product_description_lenght = items.product.product_description_lenght,\n",
    "                  produto.product_photos_qty = items.product.product_photos_qty,\n",
    "                  produto.product_weight_g = items.product.product_weight_g,\n",
    "                  produto.product_length_cm = items.product.product_length_cm,\n",
    "                  produto.product_height_cm = items.product.product_height_cm,\n",
    "                  produto.product_width_cm = items.product.product_width_cm\n",
    "MERGE (fornecedor : Fornecedor {id : items.seller_id})\n",
    "    ON CREATE SET fornecedor.nome = items.seller_id\n",
    "MERGE (categoria : Categoria {id : items.product.product_category_name})\n",
    "    ON CREATE SET categoria.nome = items.product.product_category_name\n",
    "MERGE (cliente)-[:COMPROU {id_pedido : value.order_id}]->(produto)\n",
    "MERGE (cliente)-[:MORA]->(regiao)\n",
    "MERGE (regiao)-[:EH_PARTE_DE]->(cidade)\n",
    "MERGE (cidade)-[:ESTA_LOCALIZADA]->(estado)\n",
    "MERGE (produto)-[:EH_PRODUZIDO]->(fornecedor)\n",
    "MERGE (produto)-[:EH_MONTADO]->(regiao)\n",
    "MERGE (fornecedor)-[:PERTENCE]->(regiao)\n",
    "MERGE (produto)-[:FOI_COMPRADO_POR]->(cliente)\n",
    "MERGE (produto)-[:POSSUI]->(categoria)\n",
    "MERGE (fornecedor)-[:FORNECE_CATEGORIA]->(categoria)\n",
    "\"\"\"\n",
    "\n",
    "result = graph.run(command)"
   ]
  },
  {
   "cell_type": "code",
   "execution_count": 22,
   "metadata": {},
   "outputs": [
    {
     "name": "stdout",
     "output_type": "stream",
     "text": [
      " n                                                                                                 \n",
      "---------------------------------------------------------------------------------------------------\n",
      " (_451:Cliente {id: '9ef432eb6251297304e76186b10a928d', nome: '9ef432eb6251297304e76186b10a928d'}) \n",
      " (_452:Cliente {id: 'b0830fb4747a6c6d20dea0b8c802d7ef', nome: 'b0830fb4747a6c6d20dea0b8c802d7ef'}) \n",
      " (_453:Cliente {id: '41ce2a54c0b03bf3443c3d931a367089', nome: '41ce2a54c0b03bf3443c3d931a367089'}) \n",
      "\n"
     ]
    }
   ],
   "source": [
    "command = \"\"\"MATCH (n:Cliente)\n",
    "             return n LIMIT 10\"\"\"\n",
    "\n",
    "result = graph.run(command)\n",
    "\n",
    "print(result)"
   ]
  },
  {
   "cell_type": "code",
   "execution_count": null,
   "metadata": {},
   "outputs": [],
   "source": []
  },
  {
   "cell_type": "code",
   "execution_count": null,
   "metadata": {},
   "outputs": [],
   "source": []
  },
  {
   "cell_type": "code",
   "execution_count": 78,
   "metadata": {},
   "outputs": [],
   "source": []
  },
  {
   "cell_type": "code",
   "execution_count": 78,
   "metadata": {},
   "outputs": [],
   "source": []
  },
  {
   "cell_type": "code",
   "execution_count": 78,
   "metadata": {},
   "outputs": [
    {
     "name": "stdout",
     "output_type": "stream",
     "text": [
      " p                                     \n",
      "---------------------------------------\n",
      " (_48256)-[:FAZ_PARTE_DE {}]->(_47186) \n",
      " (_53782)-[:FAZ_PARTE_DE {}]->(_47186) \n",
      " (_56301)-[:FAZ_PARTE_DE {}]->(_47186) \n",
      "\n",
      "['__class__', '__del__', '__delattr__', '__dict__', '__dir__', '__doc__', '__eq__', '__format__', '__ge__', '__getattribute__', '__getitem__', '__gt__', '__hash__', '__init__', '__init_subclass__', '__iter__', '__le__', '__lt__', '__module__', '__ne__', '__new__', '__next__', '__reduce__', '__reduce_ex__', '__repr__', '__setattr__', '__sizeof__', '__str__', '__subclasshook__', '__weakref__', '_closed', '_current', '_entities', '_hydrant', '_result', 'close', 'current', 'data', 'evaluate', 'forward', 'keys', 'next', 'plan', 'preview', 'stats', 'summary', 'to_data_frame', 'to_matrix', 'to_ndarray', 'to_series', 'to_subgraph', 'to_table']\n",
      "['_Subgraph__nodes', '_Subgraph__relationships', '__and__', '__bool__', '__class__', '__db_create__', '__db_delete__', '__db_exists__', '__db_merge__', '__db_pull__', '__db_push__', '__db_separate__', '__delattr__', '__dict__', '__dir__', '__doc__', '__eq__', '__format__', '__ge__', '__getattribute__', '__gt__', '__hash__', '__init__', '__init_subclass__', '__iter__', '__le__', '__len__', '__lt__', '__module__', '__ne__', '__new__', '__nonzero__', '__or__', '__reduce__', '__reduce_ex__', '__repr__', '__setattr__', '__sizeof__', '__str__', '__sub__', '__subclasshook__', '__weakref__', '__xor__', 'graph', 'keys', 'labels', 'nodes', 'relationships', 'types']\n",
      "(Node('Regiao', id='03113', nome='03113'),)\n",
      "(Node('Regiao', id='03001', nome='03001'),)\n",
      "(Node('Regiao', id='03715', nome='03715'),)\n",
      "(Node('Regiao', id='02834', nome='02834'),)\n",
      "(Node('Regiao', id='03622', nome='03622'),)\n",
      "(Node('Regiao', id='03106', nome='03106'),)\n",
      "(Node('Regiao', id='05618', nome='05618'),)\n",
      "(Node('Regiao', id='02809', nome='02809'),)\n",
      "(Node('Regiao', id='05687', nome='05687'),)\n",
      "(Node('Regiao', id='05444', nome='05444'),)\n",
      "(Node('Regiao', id='04513', nome='04513'),)\n",
      "(Node('Regiao', id='04275', nome='04275'),)\n",
      "(Node('Regiao', id='02987', nome='02987'),)\n",
      "(Node('Regiao', id='03533', nome='03533'),)\n",
      "(Node('Cidade', id='sao paulo', nome='sao paulo'),)\n",
      "(Node('Regiao', id='03390', nome='03390'),)\n",
      "(Node('Regiao', id='04030', nome='04030'),)\n",
      "(Node('Regiao', id='04049', nome='04049'),)\n",
      "(Node('Regiao', id='03193', nome='03193'),)\n",
      "(Node('Regiao', id='04160', nome='04160'),)\n",
      "(Node('Regiao', id='01302', nome='01302'),)\n",
      "(Node('Regiao', id='04811', nome='04811'),)\n",
      "(Node('Regiao', id='04022', nome='04022'),)\n",
      "(Node('Regiao', id='03585', nome='03585'),)\n",
      "(Node('Regiao', id='02189', nome='02189'),)\n",
      "(Node('Regiao', id='03809', nome='03809'),)\n",
      "05444 - sao paulo\n",
      "04030 - sao paulo\n",
      "03193 - sao paulo\n",
      "04049 - sao paulo\n",
      "03106 - sao paulo\n",
      "04811 - sao paulo\n",
      "02834 - sao paulo\n",
      "05618 - sao paulo\n",
      "03390 - sao paulo\n",
      "03622 - sao paulo\n",
      "02189 - sao paulo\n",
      "02987 - sao paulo\n",
      "03715 - sao paulo\n",
      "03585 - sao paulo\n",
      "04275 - sao paulo\n",
      "04513 - sao paulo\n",
      "03809 - sao paulo\n",
      "03113 - sao paulo\n",
      "03001 - sao paulo\n",
      "04022 - sao paulo\n",
      "04160 - sao paulo\n",
      "01302 - sao paulo\n",
      "02809 - sao paulo\n",
      "03533 - sao paulo\n",
      "05687 - sao paulo\n"
     ]
    },
    {
     "data": {
      "image/png": "[encoded data removed]",
      "text/plain": [
       "<Figure size 432x288 with 1 Axes>"
      ]
     },
     "metadata": {},
     "output_type": "display_data"
    }
   ],
   "source": [
    "import networkx as nx\n",
    "%matplotlib inline\n",
    "import neo4jupyter\n",
    "#neo4jupyter.init_notebook_mode()\n",
    "\n",
    "command = \"\"\"MATCH p=()-[r:FAZ_PARTE_DE]->() RETURN p LIMIT 25\"\"\"\n",
    "\n",
    "result = graph.run(command)\n",
    "\n",
    "print(result)\n",
    "\n",
    "print(dir(result))\n",
    "\n",
    "#print(dir(nx))\n",
    "graphElement = result.to_subgraph()\n",
    "print(dir(graphElement))\n",
    "nodeElements = []\n",
    "for d1 in graphElement.nodes:\n",
    "    print(d1.nodes)\n",
    "    nodeElements.append(d1.nodes[0]['id'])\n",
    "    \n",
    "edgeElements = []\n",
    "for d2 in graphElement.relationships:\n",
    "    #print(d2.forward)\n",
    "    #print(d2.next())\n",
    "    #print(d2.relationships)\n",
    "    #print(d2.__class__.__name__)\n",
    "    print('%s - %s' % (d2.nodes[0]['id'],d2.nodes[1]['id']) )\n",
    "    edgeElements.append((d2.nodes[0]['id'],d2.nodes[1]['id']))\n",
    "    \n",
    "#g= result.get_graph()\n",
    "g = nx.Graph()\n",
    "g.add_nodes_from(nodeElements)\n",
    "g.add_edges_from(edgeElements)\n",
    "nx.draw(g)"
   ]
  },
  {
   "cell_type": "code",
   "execution_count": 38,
   "metadata": {},
   "outputs": [
    {
     "name": "stdout",
     "output_type": "stream",
     "text": [
      "['__bool__', '__class__', '__delattr__', '__dict__', '__dir__', '__doc__', '__eq__', '__format__', '__ge__', '__getattribute__', '__gt__', '__hash__', '__init__', '__init_subclass__', '__le__', '__len__', '__lt__', '__module__', '__name__', '__ne__', '__new__', '__nonzero__', '__reduce__', '__reduce_ex__', '__repr__', '__setattr__', '__sizeof__', '__str__', '__subclasshook__', '__weakref__', '_procedures', 'auto', 'begin', 'call', 'create', 'delete', 'delete_all', 'evaluate', 'exists', 'match', 'match_one', 'merge', 'name', 'node_cache', 'nodes', 'play', 'pull', 'push', 'relationship_cache', 'relationships', 'run', 'schema', 'separate', 'service']\n"
     ]
    }
   ],
   "source": [
    "print(dir(graph))"
   ]
  },
  {
   "cell_type": "code",
   "execution_count": null,
   "metadata": {},
   "outputs": [],
   "source": []
  }
 ],
 "metadata": {
  "kernelspec": {
   "display_name": "Python 3",
   "language": "python",
   "name": "python3"
  },
  "language_info": {
   "codemirror_mode": {
    "name": "ipython",
    "version": 3
   },
   "file_extension": ".py",
   "mimetype": "text/x-python",
   "name": "python",
   "nbconvert_exporter": "python",
   "pygments_lexer": "ipython3",
   "version": "3.7.6"
  }
 },
 "nbformat": 4,
 "nbformat_minor": 4
}
