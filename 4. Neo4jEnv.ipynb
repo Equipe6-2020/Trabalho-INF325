{
 "cells": [
  {
   "cell_type": "code",
   "execution_count": 1,
   "metadata": {},
   "outputs": [
    {
     "name": "stdout",
     "output_type": "stream",
     "text": [
      "env: SERVER_URL=hub.gke.mybinder.org\n",
      "env: PROXY_SUBURL=proxy/7474/browser/\n"
     ]
    }
   ],
   "source": [
    "%env SERVER_URL   hub.gke.mybinder.org\n",
    "%env PROXY_SUBURL  proxy/7474/browser/"
   ]
  },
  {
   "cell_type": "code",
   "execution_count": null,
   "metadata": {},
   "outputs": [
    {
     "name": "stdout",
     "output_type": "stream",
     "text": [
      "Collecting ipython-cypher\n",
      "  Downloading https://files.pythonhosted.org/packages/93/a3/de64e243a1a3d791e21e90a524ac4ac87c33192671897fc90efee54ad38d/ipython-cypher-0.2.6.tar.gz\n",
      "Collecting neo4j\n",
      "  Downloading https://files.pythonhosted.org/packages/ad/4c/6d58b9416d2d62c4115d4c6bd84e6f31ca98716f50ee9da7a5418cfa61d0/neo4j-4.1.1.tar.gz (67kB)\n",
      "\u001b[K    100% |████████████████████████████████| 71kB 6.2MB/s eta 0:00:01\n",
      "\u001b[?25hCollecting py2neo\n",
      "  Downloading https://files.pythonhosted.org/packages/ed/8e/635dad5ea3b77d69218d1e56a5a1edf35a35719ef933fa8459ae8341084d/py2neo-2020.0.0-py2.py3-none-any.whl (180kB)\n",
      "\u001b[K    100% |████████████████████████████████| 184kB 5.4MB/s eta 0:00:01\n",
      "\u001b[?25hCollecting neo4jrestclient>=2.1.0 (from ipython-cypher)\n",
      "  Downloading https://files.pythonhosted.org/packages/95/4c/df54ba57f5838fd1ae162462f81d589b8352c6aa17d5b2a7a42e8abba048/neo4jrestclient-2.1.1.tar.gz (73kB)\n",
      "\u001b[K    100% |████████████████████████████████| 81kB 10.9MB/s ta 0:00:01\n"
     ]
    }
   ],
   "source": [
    "!pip3 install ipython-cypher neo4j py2neo"
   ]
  }
 ],
 "metadata": {
  "kernelspec": {
   "display_name": "Python 3",
   "language": "python",
   "name": "python3"
  },
  "language_info": {
   "codemirror_mode": {
    "name": "ipython",
    "version": 3
   },
   "file_extension": ".py",
   "mimetype": "text/x-python",
   "name": "python",
   "nbconvert_exporter": "python",
   "pygments_lexer": "ipython3",
   "version": "3.6.9"
  }
 },
 "nbformat": 4,
 "nbformat_minor": 4
}
