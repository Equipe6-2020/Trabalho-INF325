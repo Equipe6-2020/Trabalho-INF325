{
 "cells": [
  {
   "cell_type": "code",
   "execution_count": 1,
   "metadata": {},
   "outputs": [],
   "source": [
    "!pip3 install ipython-cypher neo4j py2neo ipycytoscape >/dev/null"
   ]
  },
  {
   "cell_type": "code",
   "execution_count": 2,
   "metadata": {},
   "outputs": [
    {
     "name": "stdout",
     "output_type": "stream",
     "text": [
      "env: NEO4J_VERSION=neo4j-community-4.1.1\n",
      "env: NEO4J_PATH=neo4j-community-4.1.1\n"
     ]
    }
   ],
   "source": [
    "%env NEO4J_VERSION neo4j-community-4.1.1\n",
    "%env NEO4J_PATH    neo4j-community-4.1.1"
   ]
  },
  {
   "cell_type": "code",
   "execution_count": 3,
   "metadata": {},
   "outputs": [
    {
     "name": "stdout",
     "output_type": "stream",
     "text": [
      "Neo4j is not running\n"
     ]
    }
   ],
   "source": [
    "!${NEO4J_PATH}/bin/neo4j status"
   ]
  },
  {
   "cell_type": "code",
   "execution_count": 4,
   "metadata": {},
   "outputs": [
    {
     "name": "stdout",
     "output_type": "stream",
     "text": [
      "{\n",
      "  \"bolt_routing\" : \"neo4j://localhost:7687\",\n",
      "  \"transaction\" : \"http://localhost:7474/db/{databaseName}/tx\",\n",
      "  \"bolt_direct\" : \"bolt://localhost:7687\",\n",
      "  \"neo4j_version\" : \"4.1.1\",\n",
      "  \"neo4j_edition\" : \"community\"\n",
      "}"
     ]
    }
   ],
   "source": [
    "!curl http://localhost:7474/"
   ]
  },
  {
   "cell_type": "code",
   "execution_count": 33,
   "metadata": {},
   "outputs": [
    {
     "name": "stdout",
     "output_type": "stream",
     "text": [
      "Number of nodes: 0 \n",
      "Number of relationships: 0 \n"
     ]
    }
   ],
   "source": [
    "# criando um adapter e verificando a conexão\n",
    "from py2neo import Graph\n",
    "\n",
    "graph = Graph(\"bolt://127.0.0.1:7687\")\n",
    "\n",
    "graph.delete_all()\n",
    "print(\"Number of nodes: {} \".format(len(graph.nodes)))\n",
    "print(\"Number of relationships: {} \".format(len(graph.relationships)))\n"
   ]
  },
  {
   "cell_type": "code",
   "execution_count": 34,
   "metadata": {},
   "outputs": [],
   "source": [
    "command = \"\"\"\n",
    "CALL apoc.load.json('dataset/json_orders_relations.json') yield value\n",
    "UNWIND value.OrderItems as items\n",
    "MERGE (pedido:Pedido {id : value.order_id})\n",
    "    ON CREATE SET pedido.nome = value.order_id,\n",
    "                  pedido.status = value.order_status,\n",
    "                  pedido.order_purchase_timestamp = value.order_purchase_timestamp,\n",
    "                  pedido.order_approved_at = value.order_approved_at,\n",
    "                  pedido.order_delivered_carrier_date = value.order_delivered_carrier_date,\n",
    "                  pedido.order_delivered_customer_date = value.order_delivered_customer_date,\n",
    "                  pedido.order_estimated_delivery_date = value.order_estimated_delivery_date\n",
    "MERGE (cliente:Cliente {id : value.customer_id})\n",
    "    ON CREATE SET cliente.nome = value.customer_id\n",
    "MERGE (regiao : Regiao {id : value.Customer.customer_zip_code_prefix})\n",
    "    ON CREATE SET regiao.nome = value.Customer.customer_zip_code_prefix\n",
    "MERGE (cidade : Cidade {id : value.Customer.customer_city})\n",
    "    ON CREATE SET cidade.nome = value.Customer.customer_city\n",
    "MERGE (estado : Estado {id : value.Customer.customer_state})\n",
    "    ON CREATE SET estado.nome = value.Customer.customer_state\n",
    "MERGE (item_pedido: ItemPedido {id: value.order_id+'-'+items.order_item_id})\n",
    "    ON CREATE SET item_pedido.nome = value.order_id+'-'+items.order_item_id,\n",
    "                  item_pedido.preco = items.price,\n",
    "                  item_pedido.shipping_limit_date = items.shipping_limit_date,\n",
    "                  item_pedido.frete = items.freight_value\n",
    "MERGE (produto: Produto {id : items.product_id})\n",
    "    ON CREATE SET produto.nome = items.product_id,\n",
    "                  produto.product_name_lenght = items.product.product_name_lenght,\n",
    "                  produto.product_description_lenght = items.product.product_description_lenght,\n",
    "                  produto.product_photos_qty = items.product.product_photos_qty,\n",
    "                  produto.product_weight_g = items.product.product_weight_g,\n",
    "                  produto.product_length_cm = items.product.product_length_cm,\n",
    "                  produto.product_height_cm = items.product.product_height_cm,\n",
    "                  produto.product_width_cm = items.product.product_width_cm\n",
    "MERGE (fornecedor : Fornecedor {id : items.seller_id})\n",
    "    ON CREATE SET fornecedor.nome = items.seller_id\n",
    "MERGE (categoria : Categoria {id : items.product.product_category_name})\n",
    "    ON CREATE SET categoria.nome = items.product.product_category_name\n",
    "MERGE (regiaoFornecedor : Regiao {id : COALESCE(items.seller.seller_zip_code_prefix, \"UNKNOWN\")})\n",
    "    ON CREATE SET regiaoFornecedor.nome = COALESCE(items.seller.seller_zip_code_prefix, \"UNKNOWN\")\n",
    "MERGE (cidadeFornecedor : Cidade {id : COALESCE(items.seller.seller_city, \"UNKNOWN\")})\n",
    "    ON CREATE SET cidadeFornecedor.nome = COALESCE(items.seller.seller_city, \"UNKNOWN\")\n",
    "MERGE (cliente)-[:COMPROU {id_pedido : value.order_id}]->(produto)\n",
    "MERGE (cliente)-[:MORA]->(regiao)\n",
    "MERGE (regiao)-[:EH_PARTE_DE]->(cidade)\n",
    "MERGE (cidade)-[:ESTA_LOCALIZADA]->(estado)\n",
    "MERGE (produto)-[:EH_DE]->(item_pedido)\n",
    "MERGE (produto)-[:EH_PRODUZIDO]->(fornecedor)\n",
    "MERGE (produto)-[:EH_MONTADO]->(regiaoFornecedor)\n",
    "MERGE (fornecedor)-[:PERTENCE]->(regiaoFornecedor)\n",
    "MERGE (regiaoFornecedor)-[:EH_PARTE_DE]->(cidadeFornecedor)\n",
    "MERGE (produto)-[:FOI_COMPRADO_POR]->(cliente)\n",
    "MERGE (produto)-[:POSSUI]->(categoria)\n",
    "MERGE (fornecedor)-[:FORNECE_CATEGORIA]->(categoria)\n",
    "\"\"\"\n",
    "\n",
    "result = graph.run(command)"
   ]
  },
  {
   "cell_type": "code",
   "execution_count": 46,
   "metadata": {},
   "outputs": [
    {
     "name": "stdout",
     "output_type": "stream",
     "text": [
      " product                          | qtdeProduto \n",
      "----------------------------------|-------------\n",
      " 87285b34884572647811a353c7ac498a |           1 \n",
      " f7e0fa615b386bc9a8b9eb52bc1fff76 |           1 \n",
      " 10adb53d8faa890ca7c2f0cbcb68d777 |           1 \n",
      " 72d3bf1d3a790f8874096fcf860e3eff |           1 \n",
      " 5ac9d9e379c606e36a8094a6046f75dc |           1 \n",
      " 2b4609f8948be18874494203496bc318 |           1 \n",
      " 6893767814d1ac82a81bcd365e1cc918 |           1 \n",
      " cafd558df4c3c9d1c338ba6930ea9a62 |           1 \n",
      " 6b64362e89896be7589621df54be089e |           1 \n",
      " 9a469eaf45dfbc43d39ba1977a3c07af |           1 \n",
      " f35927953ed82e19d06ad3aac2f06353 |           1 \n",
      " 278b3c6462e86b4556b99989513ddf73 |           1 \n",
      " 30469bb5ea377eae7121981e2f0778e4 |           1 \n",
      " 15a9e834e89eab39d973492882c658d6 |           1 \n",
      " a659cb33082b851fb87a33af8f0fff29 |           1 \n",
      " 163e6400e6dadd0fe04775c5e9331fda |           1 \n",
      " c3ba4e8d3cb30049213b682e751e9d00 |           1 \n",
      " 79da264732f717f10ebf5d102aa6c32a |           1 \n",
      " 20a8603c265d777e25da064113d556f5 |           1 \n",
      " 43ee88561093499d9e571d4db5f20b79 |           1 \n",
      "\n"
     ]
    }
   ],
   "source": [
    "# produtos mais vendidos de uma cidade\n",
    "command = \"\"\"\n",
    "MATCH (cidade:Cidade)\n",
    "WHERE cidade.id = \"sao paulo\"\n",
    "MATCH (reg)-[:EH_PARTE_DE]->(cid)\n",
    "WHERE cid.id = cidade.id\n",
    "MATCH (cli)-[:MORA]->(regAux)\n",
    "WHERE regAux.id = reg.id\n",
    "MATCH (pro)-[:FOI_COMPRADO_POR]->(cliAux)\n",
    "WHERE cliAux.id = cli.id\n",
    "WITH pro.id AS product, COUNT(cliAux) as qtdeProduto\n",
    "RETURN product, qtdeProduto\n",
    "ORDER BY qtdeProduto DESC\n",
    "\"\"\"\n",
    "result = graph.run(command)\n",
    "\n",
    "print(result.to_table())\n"
   ]
  },
  {
   "cell_type": "code",
   "execution_count": 49,
   "metadata": {},
   "outputs": [
    {
     "name": "stdout",
     "output_type": "stream",
     "text": [
      " categoria              | qtdeProduto \n",
      "------------------------|-------------\n",
      " cama_mesa_banho        |           3 \n",
      " beleza_saude           |           2 \n",
      " bebes                  |           2 \n",
      " moveis_decoracao       |           2 \n",
      " telefonia              |           2 \n",
      " utilidades_domesticas  |           1 \n",
      " informatica_acessorios |           1 \n",
      " brinquedos             |           1 \n",
      " eletronicos            |           1 \n",
      " livros_interesse_geral |           1 \n",
      " eletroportateis        |           1 \n",
      " esporte_lazer          |           1 \n",
      " automotivo             |           1 \n",
      " relogios_presentes     |           1 \n",
      "\n"
     ]
    }
   ],
   "source": [
    "# categorias mais vendidas em uma cidade\n",
    "command = \"\"\"\n",
    "MATCH (cidade:Cidade)\n",
    "WHERE cidade.id = \"sao paulo\"\n",
    "MATCH (reg)-[:EH_PARTE_DE]->(cid)\n",
    "WHERE cid.id = cidade.id\n",
    "MATCH (cli)-[:MORA]->(regAux)\n",
    "WHERE regAux.id = reg.id\n",
    "MATCH (pro)-[:FOI_COMPRADO_POR]->(cliAux)\n",
    "WHERE cliAux.id = cli.id\n",
    "MATCH (proAux)-[:POSSUI]->(cat)\n",
    "WHERE proAux.id = pro.id\n",
    "WITH cat.id AS categoria, COUNT(pro) as qtdeProduto\n",
    "RETURN categoria, qtdeProduto\n",
    "ORDER BY qtdeProduto DESC\n",
    "\"\"\"\n",
    "\n",
    "result = graph.run(command)\n",
    "\n",
    "\n",
    "print(result.to_table())\n"
   ]
  },
  {
   "cell_type": "code",
   "execution_count": 51,
   "metadata": {},
   "outputs": [
    {
     "name": "stdout",
     "output_type": "stream",
     "text": [
      " city                  | qtdeProduto \n",
      "-----------------------|-------------\n",
      " sao paulo             |          20 \n",
      " rio de janeiro        |           7 \n",
      " sorocaba              |           3 \n",
      " brasilia              |           3 \n",
      " salvador              |           2 \n",
      " santo andre           |           2 \n",
      " juiz de fora          |           2 \n",
      " jundiai               |           2 \n",
      " ribeirao preto        |           2 \n",
      " carapicuiba           |           2 \n",
      " santa rosa            |           1 \n",
      " goiania               |           1 \n",
      " imbituba              |           1 \n",
      " hortolandia           |           1 \n",
      " ouro preto            |           1 \n",
      " congonhinhas          |           1 \n",
      " vianopolis            |           1 \n",
      " mesquita              |           1 \n",
      " palmares              |           1 \n",
      " boa vista             |           1 \n",
      " sao carlos            |           1 \n",
      " santa barbara d'oeste |           1 \n",
      " alvorada              |           1 \n",
      " ibiapina              |           1 \n",
      " faxinalzinho          |           1 \n",
      "\n"
     ]
    }
   ],
   "source": [
    "# cidades que venderam mais produtos\n",
    "command = \"\"\"\n",
    "MATCH (cidade:Cidade)\n",
    "MATCH (reg)-[:EH_PARTE_DE]->(cid)\n",
    "WHERE cid.id = cidade.id\n",
    "MATCH (cli)-[r:MORA]->(regAux)\n",
    "WHERE regAux.id = reg.id\n",
    "MATCH (pro)-[FOI_COMPRADO_POR]->(cliAux)\n",
    "WHERE cliAux.id = cli.id\n",
    "WITH cid.id as city, COUNT(pro.id) as qtdeProduto\n",
    "RETURN city, qtdeProduto\n",
    "ORDER BY qtdeProduto DESC\n",
    "LIMIT 25\n",
    "\"\"\"\n",
    "\n",
    "result = graph.run(command)\n",
    "\n",
    "print(result.to_table())\n"
   ]
  },
  {
   "cell_type": "code",
   "execution_count": 56,
   "metadata": {},
   "outputs": [
    {
     "name": "stdout",
     "output_type": "stream",
     "text": [
      " city                    |  vendas \n",
      "-------------------------|---------\n",
      " sao paulo               | 2463.81 \n",
      " rio de janeiro          |  2367.4 \n",
      " boninal                 |   659.8 \n",
      " tapiratiba              |   544.0 \n",
      " jaboatao dos guararapes |   445.0 \n",
      " ribeirao preto          |  419.89 \n",
      " duque de caxias         |   369.0 \n",
      " presidente venceslau    |   339.0 \n",
      " juiz de fora            |   318.0 \n",
      " sorocaba                |  289.79 \n",
      " barreiras               |   238.6 \n",
      " itajai                  |   219.9 \n",
      " portao                  |   219.0 \n",
      " santo andre             |  198.89 \n",
      " cascavel                |   190.0 \n",
      " paulinia                |   190.0 \n",
      " palmares                |   186.9 \n",
      " antonio cardoso         |  179.99 \n",
      " santa barbara d'oeste   |   179.0 \n",
      " vianopolis              |   159.9 \n",
      " brasilia                |   154.8 \n",
      " congonhinhas            |   147.9 \n",
      " goiania                 |   132.4 \n",
      " salvador                |   130.4 \n",
      " blumenau                |  129.99 \n",
      "\n"
     ]
    }
   ],
   "source": [
    "# Cidades que apresentaram o maior volume de vendas\n",
    "command = \"\"\"\n",
    "MATCH (cidade:Cidade)\n",
    "MATCH (reg)-[:EH_PARTE_DE]->(cid)\n",
    "WHERE cid.id = cidade.id\n",
    "MATCH (cli)-[:MORA]->(regAux)\n",
    "WHERE regAux.id = reg.id\n",
    "MATCH (pro)-[:FOI_COMPRADO_POR]->(cliAux)\n",
    "WHERE cliAux.id = cli.id\n",
    "MATCH (proItem)-[:EH_DE]->(item)\n",
    "WHERE proItem.id = pro.id\n",
    "WITH cidade.id as city, SUM(item.preco) as valorVendas\n",
    "RETURN city, ROUND(valorVendas*100)/100 as vendas\n",
    "ORDER BY valorVendas DESC\n",
    "LIMIT 25\n",
    "\"\"\"\n",
    "\n",
    "result = graph.run(command)\n",
    "\n",
    "print(result.to_table())\n"
   ]
  },
  {
   "cell_type": "code",
   "execution_count": 58,
   "metadata": {},
   "outputs": [
    {
     "name": "stdout",
     "output_type": "stream",
     "text": [
      " city                    | Frete \n",
      "-------------------------|-------\n",
      " boninal                 | 82.48 \n",
      " jaboatao dos guararapes | 63.17 \n",
      " blumenau                | 57.58 \n",
      " antonio cardoso         | 51.13 \n",
      " salvador                | 48.64 \n",
      " palmares                |  38.0 \n",
      " alto santo              | 37.37 \n",
      " paracambi               |  34.2 \n",
      " boa vista               | 33.24 \n",
      " tapiratiba              | 30.36 \n",
      " alvorada                | 28.95 \n",
      " congonhinhas            | 27.36 \n",
      " sao goncalo do amarante |  27.2 \n",
      " ibiapina                | 26.89 \n",
      " rio de janeiro          | 26.28 \n",
      " santa luzia             | 24.84 \n",
      " aracaju                 | 22.85 \n",
      " luis eduardo magalhaes  | 22.62 \n",
      " presidente kubitschek   |  22.4 \n",
      " gravatai                | 21.27 \n",
      " paulinia                | 19.41 \n",
      " vianopolis              | 19.22 \n",
      " itajai                  | 18.79 \n",
      " flor da serra do sul    | 18.57 \n",
      " paranavai               | 18.47 \n",
      "\n"
     ]
    }
   ],
   "source": [
    "# Cidades que apresentaram o maior valor medio de frete cobrado em cada venda\n",
    "command = \"\"\"\n",
    "MATCH (cidade:Cidade)\n",
    "MATCH (reg)-[:EH_PARTE_DE]->(cid)\n",
    "WHERE cid.id = cidade.id\n",
    "MATCH (cli)-[:MORA]->(regAux)\n",
    "WHERE regAux.id = reg.id\n",
    "MATCH (pro)-[:FOI_COMPRADO_POR]->(cliAux)\n",
    "WHERE cliAux.id = cli.id\n",
    "MATCH (proItem)-[:EH_DE]->(item)\n",
    "WHERE proItem.id = pro.id\n",
    "WITH cidade.id as city, AVG(item.frete) as valorFrete\n",
    "RETURN city, ROUND(valorFrete*100)/100 as Frete\n",
    "ORDER BY valorFrete DESC\n",
    "LIMIT 25\n",
    "\"\"\"\n",
    "\n",
    "result = graph.run(command)\n",
    "\n",
    "print(result.to_table())\n"
   ]
  },
  {
   "cell_type": "code",
   "execution_count": 59,
   "metadata": {},
   "outputs": [
    {
     "name": "stdout",
     "output_type": "stream",
     "text": [
      " city      | categoria              | Frete \n",
      "-----------|------------------------|-------\n",
      " sao paulo | esporte_lazer          | 28.15 \n",
      " sao paulo | bebes                  | 21.77 \n",
      " sao paulo | informatica_acessorios | 16.13 \n",
      " sao paulo | brinquedos             | 16.11 \n",
      " sao paulo | livros_interesse_geral | 15.56 \n",
      " sao paulo | eletroportateis        | 13.47 \n",
      " sao paulo | moveis_decoracao       | 13.45 \n",
      " sao paulo | automotivo             | 13.25 \n",
      " sao paulo | cama_mesa_banho        | 12.45 \n",
      " sao paulo | telefonia              | 10.24 \n",
      " sao paulo | beleza_saude           |  8.94 \n",
      " sao paulo | utilidades_domesticas  |  8.72 \n",
      " sao paulo | relogios_presentes     |  7.91 \n",
      " sao paulo | eletronicos            |  7.78 \n",
      "\n"
     ]
    }
   ],
   "source": [
    "# Cidades que apresentaram o maior valor medio de frete cobrado em cada venda\n",
    "command = \"\"\"\n",
    "MATCH (cidade:Cidade)\n",
    "WHERE cidade.id = \"sao paulo\"\n",
    "MATCH (reg)-[:EH_PARTE_DE]->(cid)\n",
    "WHERE cid.id = cidade.id\n",
    "MATCH (cli)-[:MORA]->(regAux)\n",
    "WHERE regAux.id = reg.id\n",
    "MATCH (pro)-[:FOI_COMPRADO_POR]->(cliAux)\n",
    "WHERE cliAux.id = cli.id\n",
    "MATCH (proAux)-[:POSSUI]->(cat)\n",
    "WHERE proAux.id = pro.id\n",
    "MATCH (proItem)-[:EH_DE]->(item)\n",
    "WHERE proItem.id = proAux.id\n",
    "WITH cidade.id as city, cat.id AS categoria, AVG(item.frete) as valorFrete\n",
    "RETURN city, categoria, ROUND(valorFrete*100)/100 as Frete\n",
    "ORDER BY valorFrete DESC\n",
    "LIMIT 25\n",
    "\"\"\"\n",
    "\n",
    "result = graph.run(command)\n",
    "\n",
    "print(result.to_table())"
   ]
  },
  {
   "cell_type": "code",
   "execution_count": null,
   "metadata": {},
   "outputs": [],
   "source": []
  }
 ],
 "metadata": {
  "kernelspec": {
   "display_name": "Python 3",
   "language": "python",
   "name": "python3"
  },
  "language_info": {
   "codemirror_mode": {
    "name": "ipython",
    "version": 3
   },
   "file_extension": ".py",
   "mimetype": "text/x-python",
   "name": "python",
   "nbconvert_exporter": "python",
   "pygments_lexer": "ipython3",
   "version": "3.7.6"
  }
 },
 "nbformat": 4,
 "nbformat_minor": 4
}
