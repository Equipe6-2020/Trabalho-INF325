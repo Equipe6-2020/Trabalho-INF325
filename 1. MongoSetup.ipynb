{
 "cells": [
  {
   "cell_type": "code",
   "execution_count": 3,
   "metadata": {},
   "outputs": [
    {
     "name": "stdout",
     "output_type": "stream",
     "text": [
      "env: MONGODB_VERSION=4.0.11\n",
      "env: MONGODB_PATH=mongodb-4.0.11\n"
     ]
    }
   ],
   "source": [
    "%env MONGODB_VERSION      4.0.11\n",
    "%env MONGODB_PATH mongodb-4.0.11"
   ]
  },
  {
   "cell_type": "code",
   "execution_count": null,
   "metadata": {},
   "outputs": [],
   "source": [
    "!wget http://downloads.mongodb.org/linux/mongodb-linux-x86_64-ubuntu1804-${MONGODB_VERSION}.tgz -q --show-progress"
   ]
  },
  {
   "cell_type": "code",
   "execution_count": null,
   "metadata": {},
   "outputs": [],
   "source": [
    "!tar -xvf mongodb-linux-x86_64-ubuntu1804-4.0.11.tgz >/dev/null \n",
    "!rm -rf mongodb-linux-x86_64-ubuntu1804-4.0.11.tgz\n",
    "!rm -rf ${MONGODB_PATH}\n",
    "!mv mongodb-linux-x86_64-ubuntu1804-4.0.11 ${MONGODB_PATH}"
   ]
  },
  {
   "cell_type": "code",
   "execution_count": null,
   "metadata": {},
   "outputs": [],
   "source": [
    "!mkdir ${MONGODB_PATH}/data/db -p\n",
    "!${MONGODB_PATH}/bin/mongod --dbpath ${MONGODB_PATH}/data/db"
   ]
  },
  {
   "cell_type": "code",
   "execution_count": 13,
   "metadata": {},
   "outputs": [
    {
     "name": "stdout",
     "output_type": "stream",
     "text": [
      "2020-09-09T00:13:50.831-0300\tconnected to: mongodb://localhost/\n",
      "2020-09-09T00:13:50.831-0300\tdropping: mkt.customers\n",
      "2020-09-09T00:13:53.029-0300\t99441 document(s) imported successfully. 0 document(s) failed to import.\n"
     ]
    }
   ],
   "source": [
    "!mongoimport --db mkt --collection customers --drop --jsonArray --file dataset/olist_customers_dataset.json"
   ]
  },
  {
   "cell_type": "code",
   "execution_count": 7,
   "metadata": {},
   "outputs": [
    {
     "name": "stdout",
     "output_type": "stream",
     "text": [
      "2020-09-09T00:11:34.450-0300\tconnected to: mongodb://localhost/\n",
      "2020-09-09T00:11:34.450-0300\tdropping: mkt.payments\n",
      "2020-09-09T00:11:36.729-0300\t103886 document(s) imported successfully. 0 document(s) failed to import.\n"
     ]
    }
   ],
   "source": [
    "!mongoimport --db mkt --collection payments --drop --jsonArray --file dataset/olist_order_payments_dataset.json"
   ]
  },
  {
   "cell_type": "code",
   "execution_count": 8,
   "metadata": {},
   "outputs": [
    {
     "name": "stdout",
     "output_type": "stream",
     "text": [
      "2020-09-09T00:11:45.118-0300\tconnected to: mongodb://localhost/\n",
      "2020-09-09T00:11:45.118-0300\tdropping: mkt.orders\n",
      "2020-09-09T00:11:47.713-0300\t99441 document(s) imported successfully. 0 document(s) failed to import.\n"
     ]
    }
   ],
   "source": [
    "!mongoimport --db mkt --collection orders --drop --jsonArray --file dataset/olist_orders_dataset.json"
   ]
  },
  {
   "cell_type": "code",
   "execution_count": 9,
   "metadata": {},
   "outputs": [
    {
     "name": "stdout",
     "output_type": "stream",
     "text": [
      "2020-09-09T00:12:07.688-0300\tconnected to: mongodb://localhost/\n",
      "2020-09-09T00:12:07.688-0300\tdropping: mkt.products\n",
      "2020-09-09T00:12:08.642-0300\t32951 document(s) imported successfully. 0 document(s) failed to import.\n"
     ]
    }
   ],
   "source": [
    "!mongoimport --db mkt --collection products --drop --jsonArray --file dataset/olist_products_dataset.json"
   ]
  },
  {
   "cell_type": "code",
   "execution_count": 10,
   "metadata": {},
   "outputs": [
    {
     "name": "stdout",
     "output_type": "stream",
     "text": [
      "2020-09-09T00:12:17.052-0300\tconnected to: mongodb://localhost/\n",
      "2020-09-09T00:12:17.052-0300\tdropping: mkt.sellers\n",
      "2020-09-09T00:12:17.372-0300\t3095 document(s) imported successfully. 0 document(s) failed to import.\n"
     ]
    }
   ],
   "source": [
    "!mongoimport --db mkt --collection sellers --drop --jsonArray --file dataset/olist_sellers_dataset.json"
   ]
  },
  {
   "cell_type": "code",
   "execution_count": 11,
   "metadata": {},
   "outputs": [
    {
     "name": "stdout",
     "output_type": "stream",
     "text": [
      "2020-09-09T00:12:24.640-0300\tconnected to: mongodb://localhost/\n",
      "2020-09-09T00:12:24.640-0300\tdropping: mkt.productcategory\n",
      "2020-09-09T00:12:24.851-0300\t71 document(s) imported successfully. 0 document(s) failed to import.\n"
     ]
    }
   ],
   "source": [
    "!mongoimport --db mkt --collection productcategory --drop --jsonArray --file dataset/product_category_name_translation.json"
   ]
  }
 ],
 "metadata": {
  "kernelspec": {
   "display_name": "Python 3",
   "language": "python",
   "name": "python3"
  },
  "language_info": {
   "codemirror_mode": {
    "name": "ipython",
    "version": 3
   },
   "file_extension": ".py",
   "mimetype": "text/x-python",
   "name": "python",
   "nbconvert_exporter": "python",
   "pygments_lexer": "ipython3",
   "version": "3.7.3"
  }
 },
 "nbformat": 4,
 "nbformat_minor": 4
}
